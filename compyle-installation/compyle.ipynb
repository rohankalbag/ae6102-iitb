{
 "cells": [
  {
   "cell_type": "code",
   "execution_count": 2,
   "metadata": {},
   "outputs": [],
   "source": [
    "from compyle.api import annotate, Elementwise, wrap, get_config\n",
    "import numpy as np\n",
    "\n",
    "\n",
    "@annotate\n",
    "def axpb(i, x, y, a, b):\n",
    "    # this is a very memory load heavy since we are doing very less flops to parallelise\n",
    "    # it will give similar performance as the serial code, limited by memory bandwidth\n",
    "    y[i] = a*x[i] + b\n",
    "\n",
    "\n",
    "x = np.linspace(0, 1, 10000)\n",
    "y = np.zeros_like(x)\n",
    "\n",
    "# get_config().use_openmp = True  # we want to perform it for multicore architecture\n",
    "get_config().use_cuda = True # for gpu architecture\n",
    "# use_opencl for opencl and use_cuda for cuda\n",
    "x, y = wrap(x, y)\n",
    "# kernel (we want this to be run for all in parallel elementwise)\n",
    "e = Elementwise(axpb)\n",
    "# first arg (here x) will decide the number of elements the algorithm iterates over\n",
    "e(x, y, 2.0, 3.0)"
   ]
  },
  {
   "attachments": {},
   "cell_type": "markdown",
   "metadata": {},
   "source": [
    "# Reduction (Like fold)\n",
    "\n",
    "- We want to compute from all the elements into a single value\n",
    "- [3, 1, 7, 0, 4, 1, 6, 3], we want to find its sum = 25 parallely\n",
    "- Make a computation tree\n",
    "\n",
    "                25\n",
    "                /\\\n",
    "               11 14\n",
    "             / \\  / \\\n",
    "            4  7  5  9\n",
    "           /\\  /\\  /\\ /\\\n",
    "          3 1 7 0 4 1 6 3\n",
    "\n",
    "- If we have $n$ numbers and $p$ processes, $\\frac{n}{p}$ parallel operations, no of levels in the tree is $log_2(p)$\n",
    "- Complexity is of the order of $O(\\frac{n}{p} + log_2(p))$, which is close to the optimal performance we can get"
   ]
  },
  {
   "attachments": {},
   "cell_type": "markdown",
   "metadata": {},
   "source": [
    "# Scans \n",
    "\n",
    "- Generates cumulative sum\n",
    "- Used for Sorting, Polynomial evaluation, Tree construction/operation, Tri-diagonal solve\n",
    "\n",
    "- Perform an up-sweep similar to reduction of the computational tree\n",
    "\n",
    "                25\n",
    "                /\\\n",
    "               11 14\n",
    "             / \\  / \\\n",
    "            4  7  5  9\n",
    "           /\\  /\\  /\\ /\\\n",
    "          3 1 7 0 4 1 6 3\n",
    "\n",
    "                  0\n",
    "                /   \\\n",
    "               0     11\n",
    "             / \\    /   \\\n",
    "            0  4   11    16\n",
    "           /\\  /\\   /\\     /\\\n",
    "          0 3 4 11 11 15 16 22\n",
    "- Down sweep will give the pre-scan\n",
    "- - insert identity in root\n",
    "- - left child gets node value\n",
    "- - right child = left child $op$ node's value\n",
    "\n",
    "- Complexity is of the order of $O(\\frac{n}{p} + log_2(p))$, which is close to the optimal performance we can get\n"
   ]
  }
 ],
 "metadata": {
  "kernelspec": {
   "display_name": "ae6102",
   "language": "python",
   "name": "python3"
  },
  "language_info": {
   "codemirror_mode": {
    "name": "ipython",
    "version": 3
   },
   "file_extension": ".py",
   "mimetype": "text/x-python",
   "name": "python",
   "nbconvert_exporter": "python",
   "pygments_lexer": "ipython3",
   "version": "3.10.6"
  },
  "orig_nbformat": 4
 },
 "nbformat": 4,
 "nbformat_minor": 2
}
