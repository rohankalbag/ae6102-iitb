{
 "cells": [
  {
   "cell_type": "code",
   "execution_count": 1,
   "metadata": {},
   "outputs": [],
   "source": [
    "from compyle.api import annotate, Elementwise, wrap, get_config\n",
    "import numpy as np\n",
    "\n",
    "\n",
    "@annotate\n",
    "def axpb(i, x, y, a, b):\n",
    "    # this is a very memory load heavy since we are doing very less flops to parallelise\n",
    "    # it will give similar performance as the serial code, limited by memory bandwidth\n",
    "    y[i] = a*x[i] + b\n",
    "\n",
    "\n",
    "x = np.linspace(0, 1, 10000)\n",
    "y = np.zeros_like(x)\n",
    "\n",
    "get_config().use_openmp = True  # we want to perform it for multicore architecture\n",
    "# use_opencl for opencl and use_cuda for cuda\n",
    "x, y = wrap(x, y)\n",
    "# kernel (we want this to be run for all in parallel elementwise)\n",
    "e = Elementwise(axpb)\n",
    "# first arg (here x) will decide the number of elements the algorithm iterates over\n",
    "e(x, y, 2.0, 3.0)"
   ]
  }
 ],
 "metadata": {
  "kernelspec": {
   "display_name": "ae6102",
   "language": "python",
   "name": "python3"
  },
  "language_info": {
   "codemirror_mode": {
    "name": "ipython",
    "version": 3
   },
   "file_extension": ".py",
   "mimetype": "text/x-python",
   "name": "python",
   "nbconvert_exporter": "python",
   "pygments_lexer": "ipython3",
   "version": "3.8.10"
  },
  "orig_nbformat": 4
 },
 "nbformat": 4,
 "nbformat_minor": 2
}
