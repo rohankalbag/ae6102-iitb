{
 "cells": [
  {
   "cell_type": "code",
   "execution_count": null,
   "metadata": {
    "lines_to_next_cell": 2
   },
   "outputs": [],
   "source": [
    "%matplotlib inline"
   ]
  },
  {
   "cell_type": "markdown",
   "metadata": {
    "slideshow": {
     "slide_type": "slide"
    }
   },
   "source": [
    "## Floating point arithmetic\n",
    "\n",
    "- Need to be careful\n",
    "- Represents a finite number of numbers\n",
    "- A brief look"
   ]
  },
  {
   "cell_type": "markdown",
   "metadata": {
    "slideshow": {
     "slide_type": "slide"
    }
   },
   "source": [
    "## Some basic issues\n"
   ]
  },
  {
   "cell_type": "code",
   "execution_count": null,
   "metadata": {},
   "outputs": [],
   "source": [
    "x = 0.003\n",
    "y = 0.002\n",
    "z = 0.025"
   ]
  },
  {
   "cell_type": "code",
   "execution_count": null,
   "metadata": {},
   "outputs": [],
   "source": [
    "# What do you expect?\n",
    "print(1.0 + 1000 * x)\n",
    "print(1.0 + 1000 * y)\n",
    "print(1.0 + 1000 * z)"
   ]
  },
  {
   "cell_type": "code",
   "execution_count": null,
   "metadata": {},
   "outputs": [],
   "source": [
    "a = 1.0\n",
    "for i in range(1000):\n",
    "    a += 0.002\n",
    "print(a)"
   ]
  },
  {
   "cell_type": "code",
   "execution_count": null,
   "metadata": {},
   "outputs": [],
   "source": [
    "if a != 3.0:\n",
    "    print(\"Python does not know maths!\")\n"
   ]
  },
  {
   "cell_type": "code",
   "execution_count": null,
   "metadata": {},
   "outputs": [],
   "source": [
    "a = 1.0\n",
    "while a != 3.0:\n",
    "    a += 0.002\n",
    "print(a)"
   ]
  },
  {
   "cell_type": "markdown",
   "metadata": {
    "slideshow": {
     "slide_type": "slide"
    }
   },
   "source": [
    "## What is going on?\n",
    "\n",
    "- Most numbers cannot be stored exactly on the computer\n",
    "- Addition introduces roundoff\n",
    "- Effects are cumulative\n",
    "- **Never** use exact comparisons\n"
   ]
  },
  {
   "cell_type": "markdown",
   "metadata": {
    "slideshow": {
     "slide_type": "fragment"
    }
   },
   "source": [
    "An example"
   ]
  },
  {
   "cell_type": "code",
   "execution_count": null,
   "metadata": {},
   "outputs": [],
   "source": [
    "a = 1.0\n",
    "EPSILON = 1e-6  # or equivalently 0.0000001\n",
    "while abs(a - 3.0) >= EPSILON:\n",
    "    a += 0.002\n",
    "print(a)"
   ]
  },
  {
   "cell_type": "markdown",
   "metadata": {
    "lines_to_next_cell": 0,
    "slideshow": {
     "slide_type": "slide"
    }
   },
   "source": [
    "## Binary number representations\n",
    "\n",
    "- What is 27 in binary?\n",
    "- What is 0.25 in binary?\n",
    "- What is 0.1 in binary?\n"
   ]
  },
  {
   "cell_type": "markdown",
   "metadata": {},
   "source": [
    "\n"
   ]
  },
  {
   "cell_type": "markdown",
   "metadata": {
    "lines_to_next_cell": 2,
    "slideshow": {
     "slide_type": "slide"
    }
   },
   "source": [
    "## Floating point numbers\n",
    "\n",
    "- Finite size mantissa\n",
    "- Finite size exponent\n",
    "- A base for the numbers\n",
    "\n",
    "<br/>\n",
    "\n",
    "- Consider a decimal number system with 3 significant places\n",
    "- Consider 10.1 - 9.93 (= 0.17)\n",
    "- First equate the exponents; then subtract\n",
    "- You get $1.01 \\times 10^1 - 0.99 \\times 10^1 $ = 0.02\n",
    "- Subtraction can be catastrophic\n"
   ]
  },
  {
   "cell_type": "markdown",
   "metadata": {
    "slideshow": {
     "slide_type": "slide"
    }
   },
   "source": [
    "## Epsilon of the machine\n",
    "\n",
    "- Smallest number when added to 1.0 that changes it"
   ]
  },
  {
   "cell_type": "code",
   "execution_count": null,
   "metadata": {},
   "outputs": [],
   "source": [
    "2**-53"
   ]
  },
  {
   "cell_type": "code",
   "execution_count": null,
   "metadata": {},
   "outputs": [],
   "source": [
    "eps = 1.0\n",
    "while (1.0 + eps) > 1.0:\n",
    "    eps = eps*0.5\n",
    "print(eps)"
   ]
  },
  {
   "cell_type": "markdown",
   "metadata": {
    "slideshow": {
     "slide_type": "slide"
    }
   },
   "source": [
    "## IEEE 754 standard\n",
    "\n",
    "- single precision: sign(1), exponent (8), matissa (23)\n",
    "- double precision: sign(1), exponent (11), matissa (53)\n",
    "\n",
    "- Reserve numbers for zero, infinity, NaN and denormalized numbers\n"
   ]
  },
  {
   "cell_type": "markdown",
   "metadata": {
    "slideshow": {
     "slide_type": "slide"
    }
   },
   "source": [
    "## Special numbers\n",
    "\n",
    "\n",
    "| Exponent     | Fraction  | Value                   |\n",
    "| ------------ | --------- | ----------------------  |\n",
    "| $e_{min} -1$ | $f= 0$    | $\\pm 0$                 |\n",
    "| $e_{min} -1$ | $f\\neq 0$ | $0.f\\times 2^{e_{min}}$ |\n",
    "| $e_{max} +1$ | $f=0$     | $\\infty$                |\n",
    "| $e_{max} +1$ | $f\\neq0$  | NaN                     |\n",
    "\n"
   ]
  },
  {
   "cell_type": "markdown",
   "metadata": {
    "lines_to_next_cell": 2,
    "slideshow": {
     "slide_type": "fragment"
    }
   },
   "source": [
    "See this!"
   ]
  },
  {
   "cell_type": "code",
   "execution_count": null,
   "metadata": {},
   "outputs": [],
   "source": [
    "float('nan')"
   ]
  },
  {
   "cell_type": "code",
   "execution_count": null,
   "metadata": {},
   "outputs": [],
   "source": [
    "float('inf')"
   ]
  },
  {
   "cell_type": "markdown",
   "metadata": {
    "slideshow": {
     "slide_type": "slide"
    }
   },
   "source": [
    "## Catastrophic cancellation\n",
    "\n",
    "- $a = 1.23, b=1.244$ with 3 significant places\n",
    "- $b - a = 0.01$ which is wrong (1.40)\n",
    "- Only one place is correct\n",
    "- Called loss of significance!\n",
    "- Change your computation\n"
   ]
  },
  {
   "cell_type": "markdown",
   "metadata": {
    "slideshow": {
     "slide_type": "slide"
    }
   },
   "source": [
    "## Numerical derivatives\n",
    "\n",
    "- Let us compute $\\frac{d (sin(x))}{dx}$ at $x=\\pi/4$\n"
   ]
  },
  {
   "cell_type": "code",
   "execution_count": null,
   "metadata": {},
   "outputs": [],
   "source": [
    "import numpy as np\n",
    "x = np.pi/4\n",
    "exact = np.cos(x)\n",
    "dx = 1.0\n",
    "errors, dxs = [], []\n",
    "epsilon = 2**-60\n",
    "while dx > epsilon:\n",
    "    deriv = (np.sin(x + dx) - np.sin(x))/dx\n",
    "    error = abs(deriv - exact)\n",
    "    errors.append(error)\n",
    "    dxs.append(dx)\n",
    "    dx *= 0.5"
   ]
  },
  {
   "cell_type": "code",
   "execution_count": null,
   "metadata": {
    "lines_to_next_cell": 2
   },
   "outputs": [],
   "source": [
    "from matplotlib import pyplot as plt\n",
    "plt.loglog(dxs, errors)\n",
    "plt.grid()\n",
    "plt.xlabel(r'$\\Delta x$'); plt.ylabel('Error');"
   ]
  },
  {
   "cell_type": "markdown",
   "metadata": {
    "slideshow": {
     "slide_type": "slide"
    }
   },
   "source": [
    "## Higher order derivatives\n",
    "\n",
    "<img height=\"80%\" src=\"images/fd.png\" align=\"center\"/>\n",
    "\n"
   ]
  },
  {
   "cell_type": "markdown",
   "metadata": {
    "lines_to_next_cell": 2,
    "slideshow": {
     "slide_type": "slide"
    }
   },
   "source": [
    "## Homework\n",
    "\n",
    "- Plot $f(x) = (1 - \\cos x) / x^2$\n",
    "- In the region $x \\in [-4 \\times 10^{-8}, 4 \\times 10^{-8}]$\n",
    "\n"
   ]
  },
  {
   "cell_type": "markdown",
   "metadata": {
    "slideshow": {
     "slide_type": "slide"
    }
   },
   "source": [
    "## Summary\n",
    "\n",
    "- Avoid adding large quantity to a small one\n",
    "- Avoid catastrophic cancellation\n",
    "- Careful when subtracting close quantities\n",
    "- Compare floats carefully\n",
    "- Useful to know what the function should look like\n",
    "- Use libraries that are better tested\n"
   ]
  },
  {
   "cell_type": "markdown",
   "metadata": {
    "slideshow": {
     "slide_type": "slide"
    }
   },
   "source": [
    "## More information\n",
    "\n",
    "- See this: https://floating-point-gui.de\n"
   ]
  }
 ],
 "metadata": {
  "jupytext": {
   "text_representation": {
    "extension": ".md",
    "format_name": "markdown",
    "format_version": "1.2",
    "jupytext_version": "1.3.2"
   }
  },
  "kernelspec": {
   "display_name": "Python 3",
   "language": "python",
   "name": "python3"
  }
 },
 "nbformat": 4,
 "nbformat_minor": 2
}
