{
 "cells": [
  {
   "cell_type": "markdown",
   "id": "fbd13304",
   "metadata": {
    "slideshow": {
     "slide_type": "slide"
    }
   },
   "source": [
    "## Parallel scientific computation and visualization\n",
    "\n",
    "**Prabhu Ramachandran**\n",
    "\n",
    "**Department of Aerospace Engineering**\n",
    "\n",
    "**IIT Bombay**\n"
   ]
  },
  {
   "cell_type": "markdown",
   "id": "fe135216",
   "metadata": {
    "lines_to_next_cell": 2,
    "slideshow": {
     "slide_type": "slide"
    }
   },
   "source": [
    "## Command line arguments\n",
    "\n",
    "- Very useful\n",
    "- Facilitates running from a terminal\n",
    "- Useful when automating computations\n",
    "- Easy to add\n",
    "- `argparse`: https://docs.python.org/3/library/argparse.html\n"
   ]
  },
  {
   "cell_type": "markdown",
   "id": "4e4b80ec",
   "metadata": {
    "slideshow": {
     "slide_type": "slide"
    }
   },
   "source": [
    "## An example\n"
   ]
  },
  {
   "cell_type": "code",
   "execution_count": null,
   "id": "f1cb6e28",
   "metadata": {},
   "outputs": [],
   "source": [
    "!pip -h"
   ]
  },
  {
   "cell_type": "code",
   "execution_count": null,
   "id": "e462b2f6",
   "metadata": {
    "lines_to_next_cell": 0
   },
   "outputs": [],
   "source": [
    "!pip install -h"
   ]
  },
  {
   "cell_type": "markdown",
   "id": "26e42fd5",
   "metadata": {},
   "source": [
    "\n"
   ]
  },
  {
   "cell_type": "markdown",
   "id": "9256f1ba",
   "metadata": {
    "slideshow": {
     "slide_type": "slide"
    }
   },
   "source": [
    "## Using argparse\n"
   ]
  },
  {
   "cell_type": "code",
   "execution_count": null,
   "id": "a26cc9be",
   "metadata": {},
   "outputs": [],
   "source": [
    "import argparse\n",
    "from argparse import ArgumentParser\n",
    "p = ArgumentParser(description='Example')\n",
    "p.add_argument('number', type=float, help='Number to find the power.')\n",
    "p.add_argument('-p', '--power', type=int, default=2, help='Exponent')\n",
    "args = p.parse_args(['1.23', '-p', '10'])\n",
    "# Equivalent to\n",
    "# python script.py 1.23 -p 10"
   ]
  },
  {
   "cell_type": "code",
   "execution_count": null,
   "id": "cd90bcaa",
   "metadata": {
    "lines_to_next_cell": 2
   },
   "outputs": [],
   "source": [
    "args"
   ]
  },
  {
   "cell_type": "markdown",
   "id": "ce441a2e",
   "metadata": {
    "slideshow": {
     "slide_type": "slide"
    }
   },
   "source": [
    "## `add_argument`"
   ]
  },
  {
   "cell_type": "markdown",
   "id": "5ea5f505",
   "metadata": {},
   "source": [
    "```\n",
    "p.add_argument(\n",
    "name or flags...[, action][, nargs][, const]\n",
    "[, default][, type][, choices][, required]\n",
    "[, help][, metavar][, dest])\n",
    "```"
   ]
  },
  {
   "cell_type": "markdown",
   "id": "d07de24f",
   "metadata": {
    "lines_to_next_cell": 2,
    "slideshow": {
     "slide_type": "fragment"
    }
   },
   "source": [
    "\n",
    "- `action`: `'store'`, `'store_true'`, `'count'`\n",
    "- `type`: float, int, string, etc.\n",
    "- `choices`: a list of possible options\n"
   ]
  },
  {
   "cell_type": "markdown",
   "id": "1604351e",
   "metadata": {
    "slideshow": {
     "slide_type": "slide"
    }
   },
   "source": [
    "## Examples"
   ]
  },
  {
   "cell_type": "code",
   "execution_count": null,
   "id": "b2912313",
   "metadata": {},
   "outputs": [],
   "source": [
    "p = ArgumentParser(description='Example')\n",
    "p.add_argument('-p', '--power', type=float, default=2, help='Exponent')\n",
    "args = p.parse_args(['-p', '1.23'])\n",
    "print(args)"
   ]
  },
  {
   "cell_type": "code",
   "execution_count": null,
   "id": "731714eb",
   "metadata": {},
   "outputs": [],
   "source": [
    "p = ArgumentParser(description='Example')\n",
    "p.add_argument('-v', '--verbose', action='store_true', default=False)\n",
    "args = p.parse_args(['-v'])\n",
    "print(args)"
   ]
  },
  {
   "cell_type": "code",
   "execution_count": null,
   "id": "ce0b713e",
   "metadata": {
    "lines_to_next_cell": 0
   },
   "outputs": [],
   "source": [
    "p = argparse.ArgumentParser(prog='game.py')\n",
    "p.add_argument('move', choices=['rock', 'paper', 'scissors'])\n",
    "p.parse_args(['rock'])"
   ]
  },
  {
   "cell_type": "code",
   "execution_count": null,
   "id": "0847368a",
   "metadata": {},
   "outputs": [],
   "source": [
    "p.parse_args(['fire'])"
   ]
  },
  {
   "cell_type": "markdown",
   "id": "53a2c987",
   "metadata": {
    "lines_to_next_cell": 2,
    "slideshow": {
     "slide_type": "slide"
    }
   },
   "source": [
    "## Groups\n",
    "\n",
    "- `p.add_argument_group(title=None, description=None)`\n",
    "- Allows one to create sub groups\n"
   ]
  },
  {
   "cell_type": "markdown",
   "id": "5c846509",
   "metadata": {
    "slideshow": {
     "slide_type": "slide"
    }
   },
   "source": [
    "## Sub-commands\n",
    "\n",
    "- `add_subparsers([title][, description][, prog][, parser_class]\n",
    "[, action][, option_string][, dest][, required][, help][, metavar])`\n"
   ]
  },
  {
   "cell_type": "markdown",
   "id": "b0351027",
   "metadata": {
    "slideshow": {
     "slide_type": "slide"
    }
   },
   "source": [
    "## Example"
   ]
  },
  {
   "cell_type": "code",
   "execution_count": null,
   "id": "6bc4f769",
   "metadata": {},
   "outputs": [],
   "source": [
    "p = argparse.ArgumentParser(prog='PROG')\n",
    "p.add_argument('--foo', action='store_true', help='foo help')\n",
    "\n",
    "subparsers = p.add_subparsers(help='sub-command help')\n",
    "\n",
    "# create the parser for the \"install\" command\n",
    "pa = subparsers.add_parser('install', help='install help')\n",
    "pa.add_argument('bar', type=int, help='bar help')\n",
    "\n",
    "# parse some argument lists\n",
    "p.parse_args(['--foo', 'install', '12'])\n"
   ]
  },
  {
   "cell_type": "markdown",
   "id": "02c7c1eb",
   "metadata": {
    "lines_to_next_cell": 2,
    "slideshow": {
     "slide_type": "slide"
    }
   },
   "source": [
    "## Writing better code\n",
    "\n",
    "> Programs must be written for people to read, and only incidentally for\n",
    "> machines to execute.\n",
    ">\n",
    ">       - Harold Abelson\n"
   ]
  },
  {
   "cell_type": "markdown",
   "id": "5754779b",
   "metadata": {
    "slideshow": {
     "slide_type": "slide"
    }
   },
   "source": [
    "## Writing Better code\n",
    "\n",
    "- Use a good editor\n",
    "- Master it\n",
    "- Emacs/Vim/Spacemacs if you use them\n",
    "- VSCode is very nice"
   ]
  },
  {
   "cell_type": "markdown",
   "id": "cfbc54d3",
   "metadata": {
    "lines_to_next_cell": 2,
    "slideshow": {
     "slide_type": "slide"
    }
   },
   "source": [
    "## Editor features\n",
    "\n",
    "- Command completion\n",
    "- Documentation\n",
    "- PEP8 (HW: read it!)\n",
    "- Linting support\n",
    "- Jump to source\n",
    "- Integration with IPython (bonus)\n"
   ]
  },
  {
   "cell_type": "markdown",
   "id": "5492e491",
   "metadata": {
    "slideshow": {
     "slide_type": "slide"
    }
   },
   "source": [
    "## First steps\n",
    "\n",
    "- Don't write code in the main namespace\n",
    "- Refactor into functions\n",
    "- Each function does one thing well\n",
    "- Small functions\n",
    "- Convert `input` to function + args/kwargs\n",
    "- Review your own code before you commit\n"
   ]
  },
  {
   "cell_type": "markdown",
   "id": "a8241413",
   "metadata": {
    "slideshow": {
     "slide_type": "slide"
    }
   },
   "source": [
    "## More guidelines\n",
    "\n",
    "- Name things well\n",
    "- Code should be a pleasure to read\n",
    "- Comments should be superfluous (remove!)\n"
   ]
  },
  {
   "cell_type": "markdown",
   "id": "89a14b28",
   "metadata": {
    "slideshow": {
     "slide_type": "slide"
    }
   },
   "source": [
    "## Bad variable names\n"
   ]
  },
  {
   "cell_type": "code",
   "execution_count": null,
   "id": "64442216",
   "metadata": {},
   "outputs": [],
   "source": [
    "a = ('jan feb mar apr may jun jul '\n",
    "     'aug sep oct nov dec').split()\n",
    "\n",
    "d = {}\n",
    "for i in range(len(a)):\n",
    "    d[a[i]] = i + 1\n",
    "\n",
    "i = input()[:3].lower()\n",
    "print(d[i])"
   ]
  },
  {
   "cell_type": "markdown",
   "id": "de3310fa",
   "metadata": {
    "slideshow": {
     "slide_type": "slide"
    }
   },
   "source": [
    "## Better variable names"
   ]
  },
  {
   "cell_type": "code",
   "execution_count": null,
   "id": "31028570",
   "metadata": {},
   "outputs": [],
   "source": [
    "months = ('jan feb mar apr may jun jul'\n",
    "        ' aug sep oct nov dec').split()\n",
    "\n",
    "month2mm = {}\n",
    "for i in range(len(months)):\n",
    "    month2mm[months[i]] = i + 1\n",
    "\n",
    "month = input()[:3].lower()\n",
    "print(month2mm[month])"
   ]
  },
  {
   "cell_type": "markdown",
   "id": "f2cb0ac9",
   "metadata": {
    "slideshow": {
     "slide_type": "slide"
    }
   },
   "source": [
    "## Remove superfluous comments\n"
   ]
  },
  {
   "cell_type": "code",
   "execution_count": null,
   "id": "ded6d8b0",
   "metadata": {},
   "outputs": [],
   "source": [
    "# Store month names.\n",
    "months = ('jan feb mar apr may jun jul'\n",
    "        ' aug sep oct nov dec').split()\n",
    "\n",
    "# A dict to map the names to ints\n",
    "month2mm = {}\n",
    "for i in range(len(months)):\n",
    "    month2mm[months[i]] = i + 1\n",
    "\n",
    "# Get input from user.\n",
    "month = input()[:3].lower()\n",
    "print(month2mm[month])"
   ]
  },
  {
   "cell_type": "markdown",
   "id": "0d46541e",
   "metadata": {
    "slideshow": {
     "slide_type": "slide"
    }
   },
   "source": [
    "## Signs\n",
    "\n",
    "- A comment signals that things can be clearer\n",
    "- Cut pasting: begs refactoring and reuse"
   ]
  },
  {
   "cell_type": "markdown",
   "id": "d8d6bd84",
   "metadata": {
    "slideshow": {
     "slide_type": "slide"
    }
   },
   "source": [
    "## Comments"
   ]
  },
  {
   "cell_type": "code",
   "execution_count": null,
   "id": "d995898c",
   "metadata": {},
   "outputs": [],
   "source": [
    "# Initializing arrays.\n",
    "x, y = np.mgrid[0:1:64j, 0:1:64j]\n",
    "phi = sin(x*x + y*y)\n",
    "\n",
    "# Solving equations\n",
    "for i in range(64):\n",
    "    for j in range(64):\n",
    "        # ...\n",
    "\n",
    "# Plot results.\n",
    "plt.contourf(phi)\n",
    "# ..."
   ]
  },
  {
   "cell_type": "markdown",
   "id": "c8a24df0",
   "metadata": {
    "slideshow": {
     "slide_type": "slide"
    }
   },
   "source": [
    "## Comments"
   ]
  },
  {
   "cell_type": "code",
   "execution_count": null,
   "id": "2850d07d",
   "metadata": {},
   "outputs": [],
   "source": [
    "def initialize(n=64):\n",
    "    x, y = np.mgrid[0:1:64j, 0:1:64j]\n",
    "    phi = sin(x*x + y*y)\n",
    "    return phi\n",
    "\n",
    "def solve(phi):\n",
    "    for i in range(64):\n",
    "        for j in range(64):\n",
    "            # ...\n",
    "\n",
    "def plot(phi):\n",
    "    plt.contourf(phi)"
   ]
  },
  {
   "cell_type": "markdown",
   "id": "ec8243d7",
   "metadata": {
    "slideshow": {
     "slide_type": "slide"
    }
   },
   "source": [
    "## Other things\n",
    "\n",
    "- Don't cut/paste\n",
    "- Invest in testing\n",
    "- Write intentional code\n",
    "- Separate code into public/private functions/methods\n"
   ]
  },
  {
   "cell_type": "code",
   "execution_count": null,
   "id": "ec36e0c4",
   "metadata": {},
   "outputs": [],
   "source": [
    "def check_safety(self):\n",
    "    if self.temp > 650 and \\\n",
    "       self.pressure > 1e6 and \\\n",
    "       self.counter > 10:\n",
    "        _warn_user('Reactor critical')\n",
    "        self._open_escape_valve()\n",
    "        self.water_flow += 10"
   ]
  },
  {
   "cell_type": "markdown",
   "id": "66a87a67",
   "metadata": {
    "slideshow": {
     "slide_type": "slide"
    }
   },
   "source": [
    "## Example"
   ]
  },
  {
   "cell_type": "code",
   "execution_count": null,
   "id": "61a0a033",
   "metadata": {},
   "outputs": [],
   "source": [
    "def check_safety(self):\n",
    "    if self.reactor_is_critical():\n",
    "        self.shutdown_reactor()\n",
    "\n",
    "def reactor_is_critical(self):\n",
    "    return self.temp > 650 and \\\n",
    "       self.pressure > 1e6 and \\\n",
    "       self.counter > 10\n"
   ]
  },
  {
   "cell_type": "code",
   "execution_count": null,
   "id": "b63c8604",
   "metadata": {},
   "outputs": [],
   "source": [
    "def check_safety(self):\n",
    "    if self._reactor_is_critical():\n",
    "        self.shutdown_reactor()\n",
    "\n",
    "def _reactor_is_critical(self):\n",
    "    return self.temp > 650 and \\\n",
    "       self.pressure > 1e6 and \\\n",
    "       self.counter > 10"
   ]
  },
  {
   "cell_type": "markdown",
   "id": "6f0d2ee1",
   "metadata": {
    "slideshow": {
     "slide_type": "slide"
    }
   },
   "source": [
    "## PEP-8: a style guide\n",
    "\n",
    "- Python Enhancement Proposal\n",
    "- https://www.python.org/dev/peps/pep-0008/\n",
    "\n"
   ]
  },
  {
   "cell_type": "markdown",
   "id": "528b4e7e",
   "metadata": {
    "slideshow": {
     "slide_type": "slide"
    }
   },
   "source": [
    "## `flake8`\n",
    "\n",
    "- `pip install -U flake8`\n",
    "- `flake8 script.py`\n",
    "- Demo\n",
    "- Configure your editor to use this\n",
    "- Use `# noqa` to suppress but be mindful of it\n"
   ]
  },
  {
   "cell_type": "markdown",
   "id": "e56b6dc5",
   "metadata": {
    "slideshow": {
     "slide_type": "slide"
    }
   },
   "source": [
    "## Assignment 1\n",
    "\n",
    "- Simple program that makes use of command line arguments\n",
    "- Upload on moodle by tonight\n",
    "- Due by next class, Monday midnight\n",
    "- Must pass `flake8` test without error\n",
    "\n"
   ]
  }
 ],
 "metadata": {
  "kernelspec": {
   "display_name": "Python 3 (ipykernel)",
   "language": "python",
   "name": "python3"
  }
 },
 "nbformat": 4,
 "nbformat_minor": 5
}
