{
 "cells": [
  {
   "cell_type": "code",
   "execution_count": null,
   "id": "6c7db7b1",
   "metadata": {},
   "outputs": [],
   "source": [
    "%matplotlib inline\n",
    "from matplotlib import pyplot as plt\n",
    "import numpy as np"
   ]
  },
  {
   "cell_type": "markdown",
   "id": "61ec7248",
   "metadata": {
    "slideshow": {
     "slide_type": "slide"
    }
   },
   "source": [
    "## Advanced concepts\n",
    "\n",
    "- Broadcasting and broadcasting rules\n",
    "- Special indexing\n",
    "- Masked indexing\n"
   ]
  },
  {
   "cell_type": "markdown",
   "id": "30d2a868",
   "metadata": {
    "slideshow": {
     "slide_type": "slide"
    }
   },
   "source": [
    "## Simple broadcasting examples\n"
   ]
  },
  {
   "cell_type": "code",
   "execution_count": null,
   "id": "ca889613",
   "metadata": {},
   "outputs": [],
   "source": [
    "a = np.array([1.0, 2, 3.0])\n",
    "b = 2.0\n",
    "a * b"
   ]
  },
  {
   "cell_type": "code",
   "execution_count": null,
   "id": "5597db44",
   "metadata": {},
   "outputs": [],
   "source": [
    "a = np.ones((3, 3))\n",
    "b = np.array([1, 2, 3])\n",
    "a * b"
   ]
  },
  {
   "cell_type": "code",
   "execution_count": null,
   "id": "fdd4eeaa",
   "metadata": {},
   "outputs": [],
   "source": [
    "b*a"
   ]
  },
  {
   "cell_type": "code",
   "execution_count": null,
   "id": "c760b9fc",
   "metadata": {},
   "outputs": [],
   "source": [
    "a = np.array([1.0, 2, 3.0])\n",
    "a.T"
   ]
  },
  {
   "cell_type": "code",
   "execution_count": null,
   "id": "4d9674f0",
   "metadata": {
    "lines_to_next_cell": 2
   },
   "outputs": [],
   "source": [
    "a = np.array([1.0, 2, 3.0])\n",
    "b = np.ones(5)\n",
    "a * b"
   ]
  },
  {
   "cell_type": "markdown",
   "id": "dedc2102",
   "metadata": {
    "slideshow": {
     "slide_type": "slide"
    }
   },
   "source": [
    "## Broadcasting rules\n",
    "\n",
    "- Consider `A <operator> B`\n",
    "\n",
    "- Compare their shapes element-wise starting with the rightmost dimension\n",
    "  going left.\n",
    "\n",
    "- Two dimensions are compatible if:\n",
    "\n",
    "  - they are equal\n",
    "  - or one of them is 1\n",
    "\n",
    "- Do not need the same number of dimensions\n"
   ]
  },
  {
   "cell_type": "markdown",
   "id": "62fc65e5",
   "metadata": {
    "lines_to_next_cell": 2,
    "slideshow": {
     "slide_type": "slide"
    }
   },
   "source": [
    "## Illustration\n",
    "\n",
    "<br/>\n",
    "\n",
    "<img height=\"80%\" src=\"images/broadcasting_1.png\" align=\"center\"/>\n",
    "\n",
    "<br/>\n",
    "<span style=\"font-size:50%\" >\n",
    "Image source: https://numpy.org/doc/stable/user/basics.broadcasting.html\n",
    "</span>\n"
   ]
  },
  {
   "cell_type": "markdown",
   "id": "8c782943",
   "metadata": {
    "slideshow": {
     "slide_type": "slide"
    }
   },
   "source": [
    "## Examples\n",
    "\n",
    "- From the documentation!\n",
    "\n",
    "```\n",
    "Image  (3d array): 256 x 256 x 3\n",
    "Scale  (1d array):             3\n",
    "Result (3d array): 256 x 256 x 3\n",
    "```\n",
    "\n",
    "```\n",
    "A      (4d array):  8 x 1 x 6 x 1\n",
    "B      (3d array):      7 x 1 x 5\n",
    "Result (4d array):  8 x 7 x 6 x 5\n",
    "```\n"
   ]
  },
  {
   "cell_type": "markdown",
   "id": "26b087e2",
   "metadata": {},
   "source": [
    "```\n",
    "A      (2d array):      2 x 1\n",
    "B      (3d array):  8 x 4 x 3\n",
    "```\n"
   ]
  },
  {
   "cell_type": "markdown",
   "id": "9e2d6235",
   "metadata": {
    "slideshow": {
     "slide_type": "slide"
    }
   },
   "source": [
    "## Examples\n"
   ]
  },
  {
   "cell_type": "code",
   "execution_count": null,
   "id": "ee8ea1cc",
   "metadata": {},
   "outputs": [],
   "source": [
    "a = np.fromfunction(lambda i, j: 10*i, (4, 3))\n",
    "a"
   ]
  },
  {
   "cell_type": "code",
   "execution_count": null,
   "id": "061b0c52",
   "metadata": {},
   "outputs": [],
   "source": [
    "b = np.array([1.0, 2.0, 3.0, 4.0])\n",
    "a + b"
   ]
  },
  {
   "cell_type": "code",
   "execution_count": null,
   "id": "5edda29a",
   "metadata": {},
   "outputs": [],
   "source": [
    "b = np.array([1.0, 2.0, 3.0, 4.0]).reshape((4, 1))\n",
    "a + b"
   ]
  },
  {
   "cell_type": "markdown",
   "id": "96858f2c",
   "metadata": {
    "slideshow": {
     "slide_type": "slide"
    }
   },
   "source": [
    "## Illustration\n",
    "\n",
    "<br/>\n",
    "\n",
    "<img height=\"80%\" src=\"images/broadcasting_2.png\" align=\"center\"/>\n",
    "\n",
    "<br/>\n",
    "<span style=\"font-size:50%\" >\n",
    "Image source: https://numpy.org/doc/stable/user/basics.broadcasting.html\n",
    "</span>\n"
   ]
  },
  {
   "cell_type": "markdown",
   "id": "25740d75",
   "metadata": {
    "slideshow": {
     "slide_type": "slide"
    }
   },
   "source": [
    "## Examples\n",
    "\n",
    "- Introducing a new axis\n"
   ]
  },
  {
   "cell_type": "code",
   "execution_count": null,
   "id": "b869c4dd",
   "metadata": {},
   "outputs": [],
   "source": [
    "# No magic!\n",
    "b = np.array([1.0, 2.0, 3.0, 4.0])\n",
    "a + b"
   ]
  },
  {
   "cell_type": "markdown",
   "id": "ef4eca38",
   "metadata": {},
   "source": [
    "- Use `np.newaxis` or `None`"
   ]
  },
  {
   "cell_type": "code",
   "execution_count": null,
   "id": "69f0bf8b",
   "metadata": {},
   "outputs": [],
   "source": [
    "a = np.array([0.0, 10.0, 20.0, 30.0])\n",
    "b = np.array([1.0, 2.0, 3.0])\n",
    "a[:, np.newaxis] + b"
   ]
  },
  {
   "cell_type": "markdown",
   "id": "a3575941",
   "metadata": {
    "lines_to_next_cell": 2,
    "slideshow": {
     "slide_type": "slide"
    }
   },
   "source": [
    "## Illustration\n",
    "\n",
    "<br/>\n",
    "\n",
    "<img height=\"80%\" src=\"images/broadcasting_4.png\" align=\"center\"/>\n",
    "\n",
    "<br/>\n",
    "<span style=\"font-size:50%\" >\n",
    "Image source: https://numpy.org/doc/stable/user/basics.broadcasting.html\n",
    "</span>\n"
   ]
  },
  {
   "cell_type": "markdown",
   "id": "270ba1b3",
   "metadata": {
    "slideshow": {
     "slide_type": "slide"
    }
   },
   "source": [
    "## Special indexing\n",
    "\n",
    "- Can be indexed using arrays of indices"
   ]
  },
  {
   "cell_type": "code",
   "execution_count": null,
   "id": "3a5f479a",
   "metadata": {},
   "outputs": [],
   "source": [
    "a = np.arange(12)**2\n",
    "i = np.array([10, 1, 3, 8, 5])\n",
    "a[i] "
   ]
  },
  {
   "cell_type": "code",
   "execution_count": null,
   "id": "e07b973b",
   "metadata": {},
   "outputs": [],
   "source": [
    "j = np.array([[3, 4], [9, 7]])\n",
    "a[j]"
   ]
  },
  {
   "cell_type": "code",
   "execution_count": null,
   "id": "2842e13e",
   "metadata": {},
   "outputs": [],
   "source": [
    "a.flags"
   ]
  },
  {
   "cell_type": "code",
   "execution_count": null,
   "id": "45d44283",
   "metadata": {
    "lines_to_next_cell": 2
   },
   "outputs": [],
   "source": [
    "a[i] =4\n",
    "a"
   ]
  },
  {
   "cell_type": "markdown",
   "id": "7da8ce30",
   "metadata": {
    "slideshow": {
     "slide_type": "slide"
    }
   },
   "source": [
    "## More examples\n",
    "\n",
    "- ND: indices for each dimension must have same shape\n"
   ]
  },
  {
   "cell_type": "code",
   "execution_count": null,
   "id": "f99c2c1e",
   "metadata": {},
   "outputs": [],
   "source": [
    "a = np.arange(12).reshape(3, 4)\n",
    "a"
   ]
  },
  {
   "cell_type": "code",
   "execution_count": null,
   "id": "1dd9e013",
   "metadata": {},
   "outputs": [],
   "source": [
    "i = np.array([[0, 1],\n",
    "              [1, 2]])\n",
    "j = np.array([[2, 1],\n",
    "              [3, 3]])\n",
    "a[i, j]"
   ]
  },
  {
   "cell_type": "markdown",
   "id": "36cafd84",
   "metadata": {},
   "source": [
    "Warning:"
   ]
  },
  {
   "cell_type": "code",
   "execution_count": null,
   "id": "65916b2a",
   "metadata": {},
   "outputs": [],
   "source": [
    "a[i]"
   ]
  },
  {
   "cell_type": "code",
   "execution_count": null,
   "id": "a4a219a1",
   "metadata": {
    "lines_to_next_cell": 2
   },
   "outputs": [],
   "source": [
    "a[np.array([i, j])]"
   ]
  },
  {
   "cell_type": "markdown",
   "id": "279115e9",
   "metadata": {
    "lines_to_next_cell": 2,
    "slideshow": {
     "slide_type": "slide"
    }
   },
   "source": [
    "## Indexing with a boolean array\n"
   ]
  },
  {
   "cell_type": "code",
   "execution_count": null,
   "id": "4f18ee9d",
   "metadata": {},
   "outputs": [],
   "source": [
    "a = np.arange(12).reshape(3, 4)\n",
    "b = a > 4\n",
    "b"
   ]
  },
  {
   "cell_type": "code",
   "execution_count": null,
   "id": "e408c6c0",
   "metadata": {},
   "outputs": [],
   "source": [
    "a[b]"
   ]
  },
  {
   "cell_type": "code",
   "execution_count": null,
   "id": "1049ea2a",
   "metadata": {},
   "outputs": [],
   "source": [
    "a[b] = 21\n",
    "a"
   ]
  },
  {
   "cell_type": "code",
   "execution_count": null,
   "id": "74c78e18",
   "metadata": {},
   "outputs": [],
   "source": [
    "b = (a > 4) | (a%3 == 0)\n",
    "b"
   ]
  },
  {
   "cell_type": "code",
   "execution_count": null,
   "id": "723f144d",
   "metadata": {},
   "outputs": [],
   "source": []
  },
  {
   "cell_type": "markdown",
   "id": "c819f7ae",
   "metadata": {
    "slideshow": {
     "slide_type": "slide"
    }
   },
   "source": [
    "## Creating a grid of points\n",
    "\n",
    "- A box of 25x25 points between $[-2, -2]$ to $[2, 2]$\n"
   ]
  },
  {
   "cell_type": "code",
   "execution_count": null,
   "id": "a39e5970",
   "metadata": {},
   "outputs": [],
   "source": [
    "xo, yo = -2, -2\n",
    "n = 25\n",
    "dx = dy = 4.0/(n - 1)\n",
    "x = np.fromfunction(lambda i, j: xo + i*dx, (n, n))\n",
    "y = np.fromfunction(lambda i, j: yo + j*dy, (n, n))"
   ]
  },
  {
   "cell_type": "code",
   "execution_count": null,
   "id": "7c96ba5b",
   "metadata": {},
   "outputs": [],
   "source": [
    "plt.scatter(x, y);"
   ]
  },
  {
   "cell_type": "code",
   "execution_count": null,
   "id": "4a039012",
   "metadata": {},
   "outputs": [],
   "source": [
    "np.mgrid[-1:1:5j]"
   ]
  },
  {
   "cell_type": "code",
   "execution_count": null,
   "id": "e2e0ba93",
   "metadata": {},
   "outputs": [],
   "source": []
  },
  {
   "cell_type": "code",
   "execution_count": null,
   "id": "3e79395f",
   "metadata": {},
   "outputs": [],
   "source": []
  },
  {
   "cell_type": "code",
   "execution_count": null,
   "id": "95a9deb7",
   "metadata": {},
   "outputs": [],
   "source": [
    "# Easier way\n",
    "x, y = np.mgrid[-2:2:100j, -2:2:100j]\n",
    "# See also meshgrid\n",
    "#plt.contourf(x, y, np.sin(x*x + y*y));"
   ]
  },
  {
   "cell_type": "markdown",
   "id": "dedda7e0",
   "metadata": {
    "lines_to_next_cell": 2,
    "slideshow": {
     "slide_type": "slide"
    }
   },
   "source": [
    "## Exercise\n",
    "\n",
    "- Plot interior of the unit circle\n"
   ]
  },
  {
   "cell_type": "code",
   "execution_count": null,
   "id": "a5b5c154",
   "metadata": {},
   "outputs": [],
   "source": [
    "cond = (x*x + y*y < 1)\n",
    "plt.scatter(x, y);\n",
    "plt.scatter(x[cond], y[cond]);\n",
    "plt.axis('equal');"
   ]
  },
  {
   "cell_type": "markdown",
   "id": "e7166bec",
   "metadata": {
    "slideshow": {
     "slide_type": "slide"
    }
   },
   "source": [
    "## Computing the Mandelbrot set\n",
    "\n",
    "- Putting everything we learned together\n",
    "\n",
    "<img height=\"90%\" src=\"images/mandelbrot.png\" align=\"center\"/>\n"
   ]
  },
  {
   "cell_type": "markdown",
   "id": "a507ea6e",
   "metadata": {
    "slideshow": {
     "slide_type": "slide"
    }
   },
   "source": [
    "## Algorithm: pseudocode\n",
    "\n",
    "```python\n",
    "result = np.zeros((nx, ny))\n",
    "\n",
    "for i in range(nx):\n",
    "    for j in range(ny):\n",
    "        iters = 0\n",
    "        z = 0\n",
    "        while np.abs(z) < 2 and iters < 20:\n",
    "           z = z**2 + Z[i, j]\n",
    "           iters += 1\n",
    "        result[i, j] = iters\n",
    "```"
   ]
  },
  {
   "cell_type": "markdown",
   "id": "0161bf0c",
   "metadata": {
    "slideshow": {
     "slide_type": "slide"
    }
   },
   "source": [
    "Fleshed out."
   ]
  },
  {
   "cell_type": "code",
   "execution_count": null,
   "id": "e4126a9e",
   "metadata": {},
   "outputs": [],
   "source": [
    "%%time\n",
    "nx, ny = 1600, 1200\n",
    "result = np.zeros((nx, ny))\n",
    "x, y = np.mgrid[-2.5:1.5:nx*1j, -1.5:1.5:ny*1j]\n",
    "Z = x + 1j*y\n",
    "for i in range(nx):\n",
    "    for j in range(ny):\n",
    "        iters = 0\n",
    "        z = 0\n",
    "        while np.abs(z) < 2 and iters < 20:\n",
    "           z = z**2 + Z[i, j]\n",
    "           iters += 1\n",
    "        result[i, j] = iters"
   ]
  },
  {
   "cell_type": "code",
   "execution_count": null,
   "id": "e710b172",
   "metadata": {},
   "outputs": [],
   "source": [
    "plt.figure(figsize=(16, 12))\n",
    "plt.imshow(result.T, extent=[-2.5, 1.5, -1.5, 1.5]);"
   ]
  },
  {
   "cell_type": "markdown",
   "id": "a40b0b79",
   "metadata": {
    "lines_to_next_cell": 0,
    "slideshow": {
     "slide_type": "slide"
    }
   },
   "source": [
    "## Redo with numpy\n"
   ]
  },
  {
   "cell_type": "code",
   "execution_count": null,
   "id": "19516681",
   "metadata": {},
   "outputs": [],
   "source": [
    "%%time\n",
    "nx, ny = 1600, 1200\n",
    "result = np.zeros((nx, ny))\n",
    "x, y = np.mgrid[-2.5:1.5:nx*1j, -1.5:1.5:ny*1j]\n",
    "Z = x + 1j*y\n",
    "z = np.zeros_like(Z)\n",
    "for count in range(20):\n",
    "    z = z**2 + Z\n",
    "    cond = (np.abs(z) >= 2) & (result < 1 )\n",
    "    result[cond] = count\n",
    "    z[np.abs(z) >= 2] = 0.0\n",
    "result[(result < 1)] = 19"
   ]
  },
  {
   "cell_type": "code",
   "execution_count": null,
   "id": "6559b0f4",
   "metadata": {},
   "outputs": [],
   "source": [
    "plt.figure(figsize=(8, 6))\n",
    "plt.imshow(result.T, extent=[-2.5, 1.5, -1.5, 1.5]);"
   ]
  },
  {
   "cell_type": "markdown",
   "id": "cccc2f0f",
   "metadata": {
    "slideshow": {
     "slide_type": "slide"
    }
   },
   "source": [
    "## Solution\n"
   ]
  },
  {
   "cell_type": "code",
   "execution_count": null,
   "id": "416665c4",
   "metadata": {
    "lines_to_next_cell": 2
   },
   "outputs": [],
   "source": [
    "%%time\n",
    "nx, ny = 1600, 1200\n",
    "result = np.ones((nx, ny))*19\n",
    "x, y = np.mgrid[-2.5:1.5:nx*1j, -1.5:1.5:ny*1j]\n",
    "Z = x + 1j*y\n",
    "z = np.zeros_like(Z)\n",
    "div = np.ones_like(z, dtype=bool)\n",
    "for i in range(20):\n",
    "    ndiv = ~div\n",
    "    z[ndiv] = z[ndiv]**2 + Z[ndiv]\n",
    "    #z = z**2 + Z\n",
    "    div = np.abs(z) > 2\n",
    "    result[div & (result == 19)] = i\n"
   ]
  },
  {
   "cell_type": "code",
   "execution_count": null,
   "id": "bb4c607b",
   "metadata": {},
   "outputs": [],
   "source": [
    "plt.imshow(result.T, extent=[-2.5, 1.5, -1.5, 1.5]);"
   ]
  }
 ],
 "metadata": {
  "kernelspec": {
   "display_name": "Python 3 (ipykernel)",
   "language": "python",
   "name": "python3"
  }
 },
 "nbformat": 4,
 "nbformat_minor": 5
}
