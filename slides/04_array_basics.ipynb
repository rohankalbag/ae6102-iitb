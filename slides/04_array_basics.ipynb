{
 "cells": [
  {
   "cell_type": "code",
   "execution_count": null,
   "id": "9edaf0ab",
   "metadata": {},
   "outputs": [],
   "source": [
    "%matplotlib inline"
   ]
  },
  {
   "cell_type": "markdown",
   "id": "39c776ed",
   "metadata": {
    "slideshow": {
     "slide_type": "slide"
    }
   },
   "source": [
    "## Array computing\n",
    "\n",
    "- Will focus on `numpy`\n",
    "- Simple motivation\n",
    "   - Short\n",
    "   - Powerful syntax\n",
    "   - Also efficient\n",
    "- More later\n"
   ]
  },
  {
   "cell_type": "markdown",
   "id": "27677641",
   "metadata": {
    "slideshow": {
     "slide_type": "slide"
    }
   },
   "source": [
    "## Numpy arrays\n",
    "\n",
    "- Fixed **size**\n",
    "- Contiguous block of memory\n",
    "- Fixed datatype (typically), **dtype**\n",
    "- Can change the **shape**\n",
    "- Structured arrays: packed structs\n",
    "- Arbitrary number of dimensions\n",
    "- Indexing, slicing and striding\n",
    "- Memory efficient: views vs copies\n",
    "- Assume familiarity: https://numpy.org/doc/stable/user/quickstart.html\n"
   ]
  },
  {
   "cell_type": "markdown",
   "id": "c319434d",
   "metadata": {
    "lines_to_next_cell": 0,
    "slideshow": {
     "slide_type": "slide"
    }
   },
   "source": [
    "## Some simple examples\n"
   ]
  },
  {
   "cell_type": "code",
   "execution_count": null,
   "id": "c629e2f2",
   "metadata": {},
   "outputs": [],
   "source": [
    "import numpy as np"
   ]
  },
  {
   "cell_type": "code",
   "execution_count": null,
   "id": "fbe4d39d",
   "metadata": {},
   "outputs": [],
   "source": [
    "x = [1, 2, ]\n",
    "x[:3]"
   ]
  },
  {
   "cell_type": "code",
   "execution_count": null,
   "id": "707868b3",
   "metadata": {},
   "outputs": [],
   "source": [
    "x = np.arange(10)\n",
    "print(x.size, x.itemsize)\n",
    "print('shape:', x.shape)\n",
    "print('dtype:', x.dtype)\n",
    "print(x.nbytes)"
   ]
  },
  {
   "cell_type": "code",
   "execution_count": null,
   "id": "bd9a87cc",
   "metadata": {},
   "outputs": [],
   "source": [
    "x"
   ]
  },
  {
   "cell_type": "code",
   "execution_count": null,
   "id": "895d91ce",
   "metadata": {},
   "outputs": [],
   "source": [
    "x[1:3]"
   ]
  },
  {
   "cell_type": "code",
   "execution_count": null,
   "id": "5afe0e95",
   "metadata": {},
   "outputs": [],
   "source": [
    "x[1:-3]"
   ]
  },
  {
   "cell_type": "code",
   "execution_count": null,
   "id": "c0c9eefc",
   "metadata": {},
   "outputs": [],
   "source": [
    "x[:-3]"
   ]
  },
  {
   "cell_type": "code",
   "execution_count": null,
   "id": "f7d2dadd",
   "metadata": {},
   "outputs": [],
   "source": [
    "x[1:-3:2]"
   ]
  },
  {
   "cell_type": "markdown",
   "id": "474c68cd",
   "metadata": {
    "slideshow": {
     "slide_type": "slide"
    }
   },
   "source": [
    "## Multi-dimensional arrays\n",
    "\n",
    "- Many array creation functions\n",
    "- `array, zeros, zeros_like, ones, ones_like, empty`,\n",
    "- `empty_like, arange, linspace, fromfunction, fromfile`\n"
   ]
  },
  {
   "cell_type": "code",
   "execution_count": null,
   "id": "3b21c910",
   "metadata": {},
   "outputs": [],
   "source": [
    "x = np.identity(5)\n",
    "x"
   ]
  },
  {
   "cell_type": "code",
   "execution_count": null,
   "id": "7c64b275",
   "metadata": {},
   "outputs": [],
   "source": [
    "np.zeros((2, 2, 2))"
   ]
  },
  {
   "cell_type": "code",
   "execution_count": null,
   "id": "2c5c05bf",
   "metadata": {},
   "outputs": [],
   "source": [
    "x, x.dtype"
   ]
  },
  {
   "cell_type": "code",
   "execution_count": null,
   "id": "53616d39",
   "metadata": {},
   "outputs": [],
   "source": [
    "x = np.arange(9)\n",
    "x.strides"
   ]
  },
  {
   "cell_type": "code",
   "execution_count": null,
   "id": "768a687a",
   "metadata": {},
   "outputs": [],
   "source": [
    "x = np.arange(9)\n",
    "x.shape = 3, 3\n",
    "x"
   ]
  },
  {
   "cell_type": "code",
   "execution_count": null,
   "id": "1876bbce",
   "metadata": {},
   "outputs": [],
   "source": [
    "x.strides"
   ]
  },
  {
   "cell_type": "code",
   "execution_count": null,
   "id": "edd2b5c8",
   "metadata": {},
   "outputs": [],
   "source": [
    "x[0, 1]"
   ]
  },
  {
   "cell_type": "code",
   "execution_count": null,
   "id": "9d5e60e6",
   "metadata": {},
   "outputs": [],
   "source": [
    "x[0][1]"
   ]
  },
  {
   "cell_type": "code",
   "execution_count": null,
   "id": "541415d0",
   "metadata": {},
   "outputs": [],
   "source": [
    "# Elementwise operations\n",
    "2*x"
   ]
  },
  {
   "cell_type": "code",
   "execution_count": null,
   "id": "e83145d2",
   "metadata": {},
   "outputs": [],
   "source": [
    "np.sin(x)"
   ]
  },
  {
   "cell_type": "markdown",
   "id": "9d095789",
   "metadata": {
    "slideshow": {
     "slide_type": "slide"
    }
   },
   "source": [
    "## Simple Laplace equation in 2D\n",
    "\n",
    "- Jacobi iterations\n",
    "- Basic theory\n"
   ]
  },
  {
   "cell_type": "markdown",
   "id": "677377ef",
   "metadata": {
    "lines_to_next_cell": 2,
    "slideshow": {
     "slide_type": "slide"
    }
   },
   "source": [
    "## Simple implementation\n",
    "\n",
    "- Using simple looping\n"
   ]
  },
  {
   "cell_type": "code",
   "execution_count": null,
   "id": "c0b8bc36",
   "metadata": {},
   "outputs": [],
   "source": [
    "import numpy as np\n",
    "from matplotlib import pyplot as plt"
   ]
  },
  {
   "cell_type": "code",
   "execution_count": null,
   "id": "04f17703",
   "metadata": {},
   "outputs": [],
   "source": [
    "T = np.zeros((10, 10))\n",
    "T[0] = 100\n",
    "T[:,-1] = 100"
   ]
  },
  {
   "cell_type": "code",
   "execution_count": null,
   "id": "fbb29a67",
   "metadata": {},
   "outputs": [],
   "source": [
    "def loop(T):\n",
    "    N = T.shape[0]\n",
    "    Tn = np.empty_like(T)\n",
    "    for i in range(1, N-1):\n",
    "        for j in range(1, N-1):\n",
    "            Tn[i, j] = (T[i+1, j] + T[i-1,j] + T[i, j+1] + T[i, j-1])*0.25\n",
    "            \n",
    "    T[1:-1, 1:-1] = Tn[1:-1, 1:-1]"
   ]
  },
  {
   "cell_type": "code",
   "execution_count": null,
   "id": "06111f6e",
   "metadata": {},
   "outputs": [],
   "source": [
    "for i in range(1000): loop(T)\n",
    "plt.imshow(T); plt.colorbar();"
   ]
  },
  {
   "cell_type": "markdown",
   "id": "5f38d5da",
   "metadata": {
    "lines_to_next_cell": 2,
    "slideshow": {
     "slide_type": "slide"
    }
   },
   "source": [
    "## Using numpy arrays\n",
    "\n",
    "- Implementation\n",
    "- How it works\n"
   ]
  },
  {
   "cell_type": "code",
   "execution_count": null,
   "id": "b1eb7973",
   "metadata": {},
   "outputs": [],
   "source": [
    "def array_loop(T):\n",
    "    T[1:-1, 1:-1] = (T[2:, 1:-1] + T[:-2,1:-1] + T[1:-1,2:] + T[1:-1, :-2])*0.25"
   ]
  },
  {
   "cell_type": "code",
   "execution_count": null,
   "id": "d2a2c1cd",
   "metadata": {},
   "outputs": [],
   "source": [
    "T = np.zeros((10, 10))\n",
    "T[0] = 100\n",
    "T[:,-1] = 100"
   ]
  },
  {
   "cell_type": "code",
   "execution_count": null,
   "id": "d69c9930",
   "metadata": {},
   "outputs": [],
   "source": [
    "for i in range(100): array_loop(T)\n",
    "plt.imshow(T); plt.colorbar();"
   ]
  },
  {
   "cell_type": "markdown",
   "id": "0e0de81f",
   "metadata": {
    "slideshow": {
     "slide_type": "slide"
    }
   },
   "source": [
    "## Timing\n",
    "\n",
    "- Simplistic timing for now\n",
    "- Use the `time` module\n",
    "- Or we can use `%timeit` or `%time`\n"
   ]
  },
  {
   "cell_type": "code",
   "execution_count": null,
   "id": "ab6c06b1",
   "metadata": {
    "lines_to_next_cell": 0
   },
   "outputs": [],
   "source": [
    "n = 50\n",
    "T = np.zeros((n, n))"
   ]
  },
  {
   "cell_type": "code",
   "execution_count": null,
   "id": "b891f65b",
   "metadata": {},
   "outputs": [],
   "source": [
    "M = 20\n",
    "import time\n",
    "s = time.perf_counter()\n",
    "for i in range(M):\n",
    "    array_loop(T)\n",
    "print(time.perf_counter() - s)"
   ]
  },
  {
   "cell_type": "code",
   "execution_count": null,
   "id": "57acae4b",
   "metadata": {},
   "outputs": [],
   "source": [
    "import timeit"
   ]
  },
  {
   "cell_type": "code",
   "execution_count": null,
   "id": "3f2adc08",
   "metadata": {},
   "outputs": [],
   "source": [
    "%timeit np.empty_like(T)"
   ]
  },
  {
   "cell_type": "code",
   "execution_count": null,
   "id": "5e1f7852",
   "metadata": {},
   "outputs": [],
   "source": [
    "%timeit T.copy()"
   ]
  },
  {
   "cell_type": "code",
   "execution_count": null,
   "id": "34126340",
   "metadata": {},
   "outputs": [],
   "source": [
    "timeit??"
   ]
  },
  {
   "cell_type": "code",
   "execution_count": null,
   "id": "8ea53840",
   "metadata": {},
   "outputs": [],
   "source": [
    "%timeit loop(T)"
   ]
  },
  {
   "cell_type": "markdown",
   "id": "b537cfdc",
   "metadata": {
    "slideshow": {
     "slide_type": "slide"
    }
   },
   "source": [
    "## How does this work?\n",
    "\n",
    "- Advantages and pitfalls\n",
    "- Why use arrays?\n"
   ]
  }
 ],
 "metadata": {
  "kernelspec": {
   "display_name": "Python 3 (ipykernel)",
   "language": "python",
   "name": "python3"
  }
 },
 "nbformat": 4,
 "nbformat_minor": 5
}
