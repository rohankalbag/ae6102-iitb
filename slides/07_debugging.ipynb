{
 "cells": [
  {
   "cell_type": "markdown",
   "id": "fc63824f",
   "metadata": {
    "slideshow": {
     "slide_type": "slide"
    }
   },
   "source": [
    "## Debugging code\n",
    "\n",
    "- General strategy\n",
    "- Some tools\n"
   ]
  },
  {
   "cell_type": "markdown",
   "id": "bfda9d7b",
   "metadata": {
    "lines_to_next_cell": 2,
    "slideshow": {
     "slide_type": "slide"
    }
   },
   "source": [
    "## Some background\n",
    "\n",
    "- Computers are very fast and also very stupid\n",
    "- They are complex but they cannot read your mind\n",
    "- Often a communication problem between you and computer\n",
    "- Must learn to think like the computer\n"
   ]
  },
  {
   "cell_type": "markdown",
   "id": "da147641",
   "metadata": {
    "slideshow": {
     "slide_type": "slide"
    }
   },
   "source": [
    "## Reading error messages\n",
    "\n",
    "- Don't panic\n",
    "- Read the error message\n",
    "- Understand in the context of the code\n",
    "\n",
    "<br/>\n",
    "\n",
    "1. The name of exception is a good clue.\n",
    "2. Last line: actual error\n",
    "3. Lines at end give you context of the error.\n",
    "4. Lines before this tell you how it got there.\n"
   ]
  },
  {
   "cell_type": "markdown",
   "id": "5032058a",
   "metadata": {
    "slideshow": {
     "slide_type": "slide"
    }
   },
   "source": [
    "## Example\n",
    "\n",
    "- We run a simple program\n"
   ]
  },
  {
   "cell_type": "code",
   "execution_count": null,
   "id": "9045e8fb",
   "metadata": {},
   "outputs": [],
   "source": [
    "def total(vals):\n",
    "    i = 0\n",
    "    result = 0\n",
    "    while i <= len(vals):\n",
    "        result += vals[i]\n",
    "        i += 1\n",
    "    return result\n",
    "\n",
    "total([1, 2, 3])"
   ]
  },
  {
   "cell_type": "markdown",
   "id": "d4a24260",
   "metadata": {
    "slideshow": {
     "slide_type": "slide"
    }
   },
   "source": [
    "## Fixing bugs: summary\n",
    "\n",
    "- Understand the relevant code line-by-line\n",
    "- **Hypothesize** about the possible issues\n",
    "- Check your hypothesis systematically\n",
    "- Refine your hypothesis, until you find the issue\n"
   ]
  },
  {
   "cell_type": "markdown",
   "id": "3b5d171a",
   "metadata": {
    "slideshow": {
     "slide_type": "slide"
    }
   },
   "source": [
    "## Using a debugger\n",
    "\n",
    "- Python debugger is part of standard library: `pdb`\n",
    "- Allows you to walk through execution of code\n",
    "- Inspect variables\n",
    "- See the sources\n",
    "- Even execute code\n",
    "- Demo\n",
    "\n",
    "```\n",
    "$ python -m pdb error1.py\n",
    "```\n"
   ]
  },
  {
   "cell_type": "markdown",
   "id": "767ff93d",
   "metadata": {
    "slideshow": {
     "slide_type": "slide"
    }
   },
   "source": [
    "## Common `pdb` commands\n",
    "\n",
    "- `q` or `quit`\n",
    "- `h` or `help`\n",
    "- `p` short for print, see also `pp`\n",
    "- `n` or `next`: next line of code (does not step)\n",
    "- `s` or `step`: step into execution of next line\n",
    "- `c` or `cont`: continue until error/break\n",
    "- `l` or `list`: show sources\n",
    "- `b` or `break`: Add a breakpoint (also see `tbreak`)\n",
    "- `cl` or `clear`: Remove a breakpoint\n",
    "- `u` (`up`) and `d` (`down`): move up and down the frames of the stack\n"
   ]
  },
  {
   "cell_type": "markdown",
   "id": "e60e5985",
   "metadata": {
    "slideshow": {
     "slide_type": "slide"
    }
   },
   "source": [
    "## Demo\n"
   ]
  },
  {
   "cell_type": "markdown",
   "id": "cb551d17",
   "metadata": {
    "slideshow": {
     "slide_type": "slide"
    }
   },
   "source": [
    "## IPython's debugger\n",
    "\n",
    "- Using `%run`\n",
    "\n",
    "- Using the post-mortem debugger: `%debug`\n",
    "- Using `%run -d`\n",
    "- See docs for `%run`\n"
   ]
  },
  {
   "cell_type": "markdown",
   "id": "4e42bdaf",
   "metadata": {
    "slideshow": {
     "slide_type": "slide"
    }
   },
   "source": [
    "## Other conveniences\n",
    "\n",
    "- Explicitly drop into pdb at a place\n",
    "\n",
    "```\n",
    "import pdb; pdb.set_trace()\n",
    "```\n",
    "\n",
    "\n",
    "- Embed an IPython session\n",
    "\n",
    "```\n",
    "from IPython import embed\n",
    "embed()\n",
    "```\n"
   ]
  },
  {
   "cell_type": "markdown",
   "id": "e681d423",
   "metadata": {
    "slideshow": {
     "slide_type": "slide"
    }
   },
   "source": [
    "## Debugging in IDEs\n",
    "\n",
    "- Modern IDEs feature built-in debuggers\n",
    "- Same approach and ideas with a GUI\n",
    "- But you don't always need it\n"
   ]
  },
  {
   "cell_type": "markdown",
   "id": "ea259a48",
   "metadata": {
    "slideshow": {
     "slide_type": "slide"
    }
   },
   "source": [
    "## Other languages\n",
    "\n",
    "- pdb will **only debug pure Python**\n",
    "- Cannot do cross-language debugging\n",
    "  - numpy/scipy\n",
    "  - C-extensions\n",
    "  - numba code etc.\n",
    "\n",
    "<br/>\n",
    "\n",
    "- C debuggers are available: `gdb` and `lldb`\n",
    "\n",
    "- Similar ideas and commands but with differences\n",
    "- For segfaults use the `bt` command to give you an idea\n"
   ]
  }
 ],
 "metadata": {
  "kernelspec": {
   "display_name": "Python 3 (ipykernel)",
   "language": "python",
   "name": "python3"
  }
 },
 "nbformat": 4,
 "nbformat_minor": 5
}
