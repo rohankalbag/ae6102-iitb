{
 "cells": [
  {
   "cell_type": "markdown",
   "metadata": {
    "slideshow": {
     "slide_type": "slide"
    }
   },
   "source": [
    "## Chaco\n",
    "\n",
    "- Overview\n",
    "- Embedding a simple plot\n"
   ]
  },
  {
   "cell_type": "markdown",
   "metadata": {
    "slideshow": {
     "slide_type": "slide"
    }
   },
   "source": [
    "## Overview\n",
    "\n",
    "- 2D plotting library\n",
    "- Embeddable in any wx/Qt application\n",
    "- Fast and interactive visualizations\n",
    "- Integrates well with Traits and TraitsUI\n",
    "- Easily extensible to create new types of plots and interactions\n",
    "- https://github.com/enthought/chaco\n",
    "- https://docs.enthought.com/chaco\n"
   ]
  },
  {
   "cell_type": "markdown",
   "metadata": {
    "slideshow": {
     "slide_type": "slide"
    }
   },
   "source": [
    "## Examples\n",
    "\n",
    "<img src=\"images/chaco_regr.png\" width=\"50%\"/>\n",
    "<img src=\"images/chaco_cmapi.png\" width=\"50%\"/>\n",
    "\n"
   ]
  },
  {
   "cell_type": "markdown",
   "metadata": {
    "slideshow": {
     "slide_type": "slide"
    }
   },
   "source": [
    "## Core ideas\n",
    "\n",
    "- Plots are compositions of visual components\n",
    "\n",
    "- Separation between data and screen space\n",
    "\n",
    "- Modular design and extensible classes\n"
   ]
  },
  {
   "cell_type": "markdown",
   "metadata": {
    "slideshow": {
     "slide_type": "slide"
    }
   },
   "source": [
    "## Architecture\n",
    "\n",
    "- Data Handling: wrap input data, transform co-ordinates between data and\n",
    "  screen space (eg., `ArrayDataSource, LinearMapper`)\n",
    "\n",
    "- Visual components: render to the screen (eg. `LinePlot, ScatterPlot, Legend,\n",
    "  PlotAxis, ...`)\n",
    "\n",
    "- Tools: handle keyboard or mouse events and modify other components (eg.\n",
    "  `PanTool, ZoomTool, ScatterInspector`)\n"
   ]
  },
  {
   "cell_type": "markdown",
   "metadata": {
    "slideshow": {
     "slide_type": "slide"
    }
   },
   "source": [
    "## An example\n"
   ]
  },
  {
   "cell_type": "code",
   "execution_count": null,
   "metadata": {},
   "outputs": [],
   "source": [
    "# %load code/chaco_simple.py\n",
    "import numpy as np\n",
    "from traits.api import HasTraits, Instance\n",
    "from traitsui.api import View, Item\n",
    "from enable.api import ComponentEditor\n",
    "from chaco.api import Plot, ArrayPlotData\n",
    "\n",
    "\n",
    "class LinePlot(HasTraits):\n",
    "    plot = Instance(Plot)\n",
    "    traits_view = View(\n",
    "        Item('plot', editor=ComponentEditor(),\n",
    "             show_label=False),\n",
    "        width=500, height=500,\n",
    "        resizable=True,\n",
    "        title=\"Chaco Plot\"\n",
    "    )\n",
    "\n",
    "    def _plot_default(self):\n",
    "        x = np.linspace(-14, 14, 100)\n",
    "        y = np.sin(x) * x**3\n",
    "        plotdata = ArrayPlotData(x=x, y=y)\n",
    "        plot = Plot(plotdata)\n",
    "        plot.plot((\"x\", \"y\"), type=\"line\", color=\"blue\")\n",
    "        plot.title = \"sin(x) x^3\"\n",
    "        return plot\n",
    "\n",
    "\n",
    "if __name__ == '__main__':\n",
    "    l = LinePlot()\n",
    "    l.configure_traits()\n"
   ]
  },
  {
   "cell_type": "markdown",
   "metadata": {
    "slideshow": {
     "slide_type": "slide"
    }
   },
   "source": [
    "## Chaco data model\n",
    "\n",
    "<img src=\"images/chaco_data_model.png\" width=\"90%\"/>\n"
   ]
  },
  {
   "cell_type": "markdown",
   "metadata": {
    "slideshow": {
     "slide_type": "slide"
    }
   },
   "source": [
    "## Common classes\n",
    "\n",
    "<img src=\"images/chaco_classes.png\" width=\"90%\"/>\n"
   ]
  },
  {
   "cell_type": "markdown",
   "metadata": {
    "slideshow": {
     "slide_type": "slide"
    }
   },
   "source": [
    "## Adding interactions\n"
   ]
  },
  {
   "cell_type": "code",
   "execution_count": null,
   "metadata": {},
   "outputs": [],
   "source": [
    "    from chaco.tools.api import PanTool, TraitsTool, PanTool\n",
    "    # ...\n",
    "    def _plot_default(self):\n",
    "        ...\n",
    "        # Add some interactivity to the plots.\n",
    "        plot.tools.append(ZoomTool(component=plot))\n",
    "        plot.tools.append(PanTool(component=plot))\n",
    "        plot.tools.append(TraitsTool(component=plot))\n",
    "        return plot\n"
   ]
  },
  {
   "cell_type": "code",
   "execution_count": null,
   "metadata": {},
   "outputs": [],
   "source": [
    "%run code/chaco_simple_tools.py"
   ]
  },
  {
   "cell_type": "markdown",
   "metadata": {
    "lines_to_next_cell": 2,
    "slideshow": {
     "slide_type": "slide"
    }
   },
   "source": [
    "## Other kinds of plots\n",
    "\n",
    "- Image plots: `plot.img_plot(\"imagedata\", colormap=jet)`\n",
    "- Scatter and line plots: Use `type` kwarg of plot method\n",
    "- Multiple plots: call `plot` multiple times\n",
    "- Can also create containers, `HPlotContainer, VPlotContainer` etc.\n",
    "- Plots are fast, and interactive\n"
   ]
  },
  {
   "cell_type": "markdown",
   "metadata": {
    "slideshow": {
     "slide_type": "slide"
    }
   },
   "source": [
    "## Learning more\n",
    "\n",
    "- Go over the tutorial\n",
    "- https://docs.enthought.com/chaco/user_manual/chaco_tutorial.html\n"
   ]
  },
  {
   "cell_type": "markdown",
   "metadata": {
    "slideshow": {
     "slide_type": "slide"
    }
   },
   "source": [
    "## Exercise\n",
    "\n",
    "- Write the Lissajous example using Chaco\n"
   ]
  },
  {
   "cell_type": "code",
   "execution_count": null,
   "metadata": {},
   "outputs": [],
   "source": []
  }
 ],
 "metadata": {
  "kernelspec": {
   "display_name": "Python 3",
   "language": "python",
   "name": "python3"
  }
 },
 "nbformat": 4,
 "nbformat_minor": 2
}
