{
 "cells": [
  {
   "cell_type": "markdown",
   "metadata": {
    "slideshow": {
     "slide_type": "slide"
    }
   },
   "source": [
    "## An introduction to traits\n",
    "\n",
    "- A powerful library\n",
    "- Open source\n",
    "- [Enthought](https://www.enthought.com)\n",
    "- Part of ETS: Enthought Tool Suite\n"
   ]
  },
  {
   "cell_type": "markdown",
   "metadata": {
    "slideshow": {
     "slide_type": "slide"
    }
   },
   "source": [
    "## ETS: Enthought Tool Suite\n",
    "\n",
    "- https://docs.enthought.com/ets/\n",
    "- Traits: Object Models\n",
    "- TraitsUI: Views for Objects having Traits\n",
    "- Chaco: 2D Visualizations\n",
    "- Mayavi: 3D Visualizations\n",
    "\n",
    "<br/>\n",
    "\n",
    "- Envisage: Application Framework\n",
    "- Miscellaneous libraries\n"
   ]
  },
  {
   "cell_type": "markdown",
   "metadata": {
    "slideshow": {
     "slide_type": "slide"
    }
   },
   "source": [
    "## Introduction to Traits\n",
    "\n",
    "- **trait**: Python object attribute with additional characteristics\n",
    "\n",
    "<br/>\n",
    "\n",
    "- https://docs.enthought.com/traits/\n",
    "- https://github.com/enthought/traits/\n"
   ]
  },
  {
   "cell_type": "markdown",
   "metadata": {
    "slideshow": {
     "slide_type": "slide"
    }
   },
   "source": [
    "## Trait features\n",
    "\n",
    "- Initialization: default value\n",
    "- Validation: strongly typed\n",
    "- Deferral/Delegation: value delegation\n",
    "- Notification: events\n",
    "- Visualization: MVC, automatic GUI!\n"
   ]
  },
  {
   "cell_type": "markdown",
   "metadata": {
    "slideshow": {
     "slide_type": "slide"
    }
   },
   "source": [
    "## An example\n"
   ]
  },
  {
   "cell_type": "code",
   "execution_count": null,
   "metadata": {},
   "outputs": [],
   "source": [
    "from traits.api import (Delegate, HasTraits,\n",
    "    Instance, Int, Str, observe)\n",
    "\n",
    "class Parent(HasTraits):\n",
    "    # INITIALIZATION: 'last_name' initialized to ''\n",
    "    last_name = Str('')\n"
   ]
  },
  {
   "cell_type": "code",
   "execution_count": null,
   "metadata": {},
   "outputs": [],
   "source": [
    "class Child(HasTraits):\n",
    "    age = Int\n",
    "    # VALIDATION: 'father' must be Parent instance\n",
    "    father = Instance(Parent)\n",
    "    # DELEGATION: 'last_name' delegated to father's\n",
    "    last_name = Delegate('father')\n",
    "    # NOTIFICATION: Method called when 'age' changes\n",
    "    def _age_changed(self, old, new):\n",
    "        print('Age changed from %s to %s ' % (old, new))\n"
   ]
  },
  {
   "cell_type": "markdown",
   "metadata": {
    "slideshow": {
     "slide_type": "slide"
    }
   },
   "source": [
    "## Using this\n"
   ]
  },
  {
   "cell_type": "code",
   "execution_count": null,
   "metadata": {
    "lines_to_next_cell": 2
   },
   "outputs": [],
   "source": [
    "joe = Parent()\n",
    "joe.last_name = 'Johnson'\n",
    "moe = Child()\n",
    "moe.father = joe"
   ]
  },
  {
   "cell_type": "code",
   "execution_count": null,
   "metadata": {},
   "outputs": [],
   "source": [
    "# Delegation\n",
    "moe.last_name"
   ]
  },
  {
   "cell_type": "code",
   "execution_count": null,
   "metadata": {},
   "outputs": [],
   "source": [
    "# Notification\n",
    "moe.age = 10"
   ]
  },
  {
   "cell_type": "code",
   "execution_count": null,
   "metadata": {},
   "outputs": [],
   "source": [
    "# Validation\n",
    "moe.age = '1'"
   ]
  },
  {
   "cell_type": "code",
   "execution_count": null,
   "metadata": {},
   "outputs": [],
   "source": [
    "# Visualization\n",
    "moe.configure_traits()"
   ]
  },
  {
   "cell_type": "markdown",
   "metadata": {},
   "source": [
    "- Live editing!"
   ]
  },
  {
   "cell_type": "code",
   "execution_count": null,
   "metadata": {},
   "outputs": [],
   "source": [
    "%gui qt"
   ]
  },
  {
   "cell_type": "code",
   "execution_count": null,
   "metadata": {},
   "outputs": [],
   "source": [
    "moe.edit_traits()"
   ]
  },
  {
   "cell_type": "code",
   "execution_count": null,
   "metadata": {},
   "outputs": [],
   "source": [
    "moe.age = 21"
   ]
  },
  {
   "cell_type": "markdown",
   "metadata": {
    "slideshow": {
     "slide_type": "slide"
    }
   },
   "source": [
    "## Predefined trait types\n",
    "\n",
    "- Standard: `Bool, Complex, Int, Float, Str, Tuple, List, Dict`\n",
    "- Constrained: `Range, Regex, Expression, ReadOnly`\n",
    "- Special: `Date, Either/Union, Enum, Array, File, Color, Font, Button`\n",
    "- Generic: `Instance, Any, Callable`\n",
    "- Custom traits: 2D/3D plots etc.\n"
   ]
  },
  {
   "cell_type": "markdown",
   "metadata": {
    "slideshow": {
     "slide_type": "slide"
    }
   },
   "source": [
    "## Trait change notification\n",
    "\n",
    "- Static: `def _<trait_name>_changed()`\n",
    "- Decorator: `@observe('extended.trait.name')`\n",
    "- Dynamic:\n",
    "\n",
    "```obj.observe(handler, 'extended.trait.name')\n",
    "```\n",
    "\n",
    "- See documentation: https://docs.enthought.com/traits/traits_user_manual/notification.html\n"
   ]
  },
  {
   "cell_type": "markdown",
   "metadata": {
    "slideshow": {
     "slide_type": "slide"
    }
   },
   "source": [
    "## Notification example\n"
   ]
  },
  {
   "cell_type": "code",
   "execution_count": null,
   "metadata": {},
   "outputs": [],
   "source": [
    "class Parent(HasTraits):\n",
    "    last_name = Str('')\n",
    "\n",
    "\n",
    "class Child(HasTraits):\n",
    "    age = Int\n",
    "    father = Instance(Parent)\n",
    "\n",
    "    def _age_changed(self, old, new):\n",
    "        print('Age changed from %s to %s ' % (old, new))\n",
    "\n",
    "    @observe('father.last_name')\n",
    "    def _dad_name_updated(self, event):\n",
    "        print('DAD name', self.father.last_name)\n"
   ]
  },
  {
   "cell_type": "code",
   "execution_count": null,
   "metadata": {},
   "outputs": [],
   "source": [
    "def handler(event):\n",
    "    print(\"handler\", event.object, event.name, event.old, event.new)"
   ]
  },
  {
   "cell_type": "code",
   "execution_count": null,
   "metadata": {},
   "outputs": [],
   "source": [
    "c.age = 21\n",
    "c.father = Parent(last_name='Shyam')"
   ]
  },
  {
   "cell_type": "code",
   "execution_count": null,
   "metadata": {},
   "outputs": [],
   "source": [
    "c = Child(father=Parent(last_name='Ram'))\n",
    "c.observe(handler, 'father, age')"
   ]
  },
  {
   "cell_type": "markdown",
   "metadata": {
    "slideshow": {
     "slide_type": "slide"
    }
   },
   "source": [
    "## Exercise\n",
    "\n",
    "- Modify the first example to produce the above example\n",
    "- Add a `first_name` trait\n",
    "- Add a `Bool` trait to specify if person is alive\n",
    "- Add an `Enum` for the gender of the child\n",
    "\n"
   ]
  },
  {
   "cell_type": "markdown",
   "metadata": {
    "slideshow": {
     "slide_type": "slide"
    }
   },
   "source": [
    "## Solution\n"
   ]
  },
  {
   "cell_type": "code",
   "execution_count": null,
   "metadata": {},
   "outputs": [],
   "source": [
    "from traits.api import Bool, Enum\n",
    "\n",
    "class Parent(HasTraits):\n",
    "    last_name = Str('')\n",
    "\n",
    "\n",
    "class Child(HasTraits):\n",
    "    age = Int\n",
    "    father = Instance(Parent)\n",
    "    first_name = Str('')\n",
    "    alive = Bool(True)\n",
    "    gender = Enum('female', 'male', 'neither')\n",
    "\n",
    "    def _age_changed(self, old, new):\n",
    "        print('Age changed from %s to %s ' % (old, new))\n",
    "\n",
    "    @observe('father.last_name')\n",
    "    def _dad_name_updated(self, event):\n",
    "        print('DAD name', self.father.last_name)\n"
   ]
  },
  {
   "cell_type": "code",
   "execution_count": null,
   "metadata": {},
   "outputs": [],
   "source": [
    "p = Parent(last_name='Ray')\n",
    "c = Child(age=21, father=p, first_name='Romano', gender='male')"
   ]
  },
  {
   "cell_type": "markdown",
   "metadata": {
    "slideshow": {
     "slide_type": "slide"
    }
   },
   "source": [
    "## Setting default values\n",
    "\n",
    "- For simple cases, use the default of the trait\n",
    "- For more complex cases use a special method\n",
    "- A simple example\n"
   ]
  },
  {
   "cell_type": "code",
   "execution_count": null,
   "metadata": {
    "lines_to_next_cell": 2
   },
   "outputs": [],
   "source": [
    "import datetime\n",
    "\n",
    "from traits.api import HasTraits, Date, Range\n",
    "\n",
    "class Thing(HasTraits):\n",
    "    date = Date()\n",
    "    age = Int(12)\n",
    "\n",
    "    def _date_default(self):\n",
    "        print('default')\n",
    "        return datetime.datetime.today()"
   ]
  },
  {
   "cell_type": "code",
   "execution_count": null,
   "metadata": {},
   "outputs": [],
   "source": [
    "t = Thing()"
   ]
  },
  {
   "cell_type": "code",
   "execution_count": null,
   "metadata": {},
   "outputs": [],
   "source": [
    "type(c.age)"
   ]
  },
  {
   "cell_type": "markdown",
   "metadata": {
    "slideshow": {
     "slide_type": "slide"
    }
   },
   "source": [
    "## Trait Lists\n",
    "\n"
   ]
  },
  {
   "cell_type": "code",
   "execution_count": null,
   "metadata": {},
   "outputs": [],
   "source": [
    "from traits.api import List\n",
    "\n",
    "class Bowl(HasTraits):\n",
    "    fruits = List(Str)\n",
    "\n",
    "    def _fruits_changed(self, o, n):\n",
    "        print(\"Fruits changed\", o, n)\n"
   ]
  },
  {
   "cell_type": "code",
   "execution_count": null,
   "metadata": {},
   "outputs": [],
   "source": [
    "b = Bowl()\n",
    "b.fruits = ['apple']\n",
    "b.fruits.append('mango')"
   ]
  },
  {
   "cell_type": "markdown",
   "metadata": {
    "slideshow": {
     "slide_type": "slide"
    }
   },
   "source": [
    "## Trait List events\n"
   ]
  },
  {
   "cell_type": "code",
   "execution_count": null,
   "metadata": {},
   "outputs": [],
   "source": [
    "class Bowl(HasTraits):\n",
    "    fruits = List(Str)\n",
    "    def _fruits_changed(self, o, n):\n",
    "        print(\"Fruits changed\", o, n)\n",
    "\n",
    "    def _fruits_items_changed(self, list_event):\n",
    "        print(list_event.index)\n",
    "        print(list_event.removed)\n",
    "        print(list_event.added)\n"
   ]
  },
  {
   "cell_type": "code",
   "execution_count": null,
   "metadata": {},
   "outputs": [],
   "source": [
    "b = Bowl()\n",
    "b.fruits = ['apple']\n",
    "b.fruits.append('mango')"
   ]
  },
  {
   "cell_type": "code",
   "execution_count": null,
   "metadata": {},
   "outputs": [],
   "source": [
    "def handler(event):\n",
    "    print(\"h:\", event)\n",
    "\n",
    "b.observe(handler, 'fruits.items')\n",
    "b.fruits.append('peach')"
   ]
  },
  {
   "cell_type": "code",
   "execution_count": null,
   "metadata": {
    "lines_to_next_cell": 2
   },
   "outputs": [],
   "source": [
    "# Remove the handler\n",
    "b.observe(handler, 'fruits.items', remove=True)"
   ]
  },
  {
   "cell_type": "markdown",
   "metadata": {
    "slideshow": {
     "slide_type": "slide"
    }
   },
   "source": [
    "## Other events\n",
    "\n",
    "- `TraitChangeEvent`\n",
    "- `ListChangeEvent`\n",
    "- `DictChangeEvent`\n",
    "- `SetChangeEvent`\n"
   ]
  },
  {
   "cell_type": "markdown",
   "metadata": {
    "slideshow": {
     "slide_type": "slide"
    }
   },
   "source": [
    "## Property traits\n",
    "\n",
    "- What if you have a quantity that is computed?\n",
    "- Use Property traits here\n",
    "- Use the `observe=` kwarg\n",
    "- Use `@cached_property` to cache output\n",
    "- Use the `_get_propname` and `_set_propname`\n"
   ]
  },
  {
   "cell_type": "code",
   "execution_count": null,
   "metadata": {},
   "outputs": [],
   "source": [
    "from math import pi\n",
    "from traits.api import Range, Float, Property, cached_property\n",
    "\n",
    "class Circle(HasTraits):\n",
    "    radius = Range(0.0, 1000.0)\n",
    "    area = Property(Float, observe='radius')\n",
    "\n",
    "    @cached_property\n",
    "    def _get_area(self):\n",
    "        print(\"computing area\")\n",
    "        return pi*self.radius**2"
   ]
  },
  {
   "cell_type": "code",
   "execution_count": null,
   "metadata": {},
   "outputs": [],
   "source": [
    "c = Circle(radius=2)\n",
    "c.area"
   ]
  },
  {
   "cell_type": "code",
   "execution_count": null,
   "metadata": {},
   "outputs": [],
   "source": [
    "c.area"
   ]
  },
  {
   "cell_type": "markdown",
   "metadata": {
    "slideshow": {
     "slide_type": "slide"
    }
   },
   "source": [
    "## Array traits\n",
    "\n",
    "- Can handle numpy arrays of arbitrary shape\n",
    "- Example of the Lissajous curves\n",
    "- Consider, $x = sin (at + \\delta)$, $y=sin(b t)$\n"
   ]
  },
  {
   "cell_type": "code",
   "execution_count": null,
   "metadata": {},
   "outputs": [],
   "source": [
    "import numpy as np\n",
    "from traits.api import Array, Range, observe\n",
    "\n",
    "class Lissajous(HasTraits):\n",
    "    tmax = Range(1.0, 1000.0, value=10.0)\n",
    "    n = Range(10, 1000)\n",
    "    x = Array(dtype=float, shape=(None,))\n",
    "    y = Array(dtype=float, shape=(None,))\n",
    "    a = Float(1.0)\n",
    "    b = Float(1.0)\n",
    "    delta = Float(0.0)\n",
    "\n",
    "    @observe('tmax, n, a, b, delta')\n",
    "    def update(self, event=None):\n",
    "        t = np.linspace(0, self.tmax, self.n)\n",
    "        self.x = np.sin(self.a*t + self.delta)\n",
    "        self.y = np.sin(self.b*t)"
   ]
  },
  {
   "cell_type": "code",
   "execution_count": null,
   "metadata": {},
   "outputs": [],
   "source": [
    "lj = Lissajous()\n",
    "lj.a = 0.5"
   ]
  },
  {
   "cell_type": "code",
   "execution_count": null,
   "metadata": {},
   "outputs": [],
   "source": [
    "lj.edit_traits()"
   ]
  },
  {
   "cell_type": "code",
   "execution_count": null,
   "metadata": {},
   "outputs": [],
   "source": []
  },
  {
   "cell_type": "markdown",
   "metadata": {
    "slideshow": {
     "slide_type": "slide"
    }
   },
   "source": [
    "## So what?\n",
    "\n",
    "- Let us now make a plot\n"
   ]
  },
  {
   "cell_type": "code",
   "execution_count": null,
   "metadata": {},
   "outputs": [],
   "source": [
    "import numpy as np\n",
    "from matplotlib import pyplot as plt\n",
    "from traits.api import Any, Array, Range, observe\n",
    "\n",
    "class Lissajous(HasTraits):\n",
    "    tmax = Range(1.0, 1000.0, value=10.0)\n",
    "    n = Range(10, 1000)\n",
    "    x = Array(dtype=float, shape=(None,))\n",
    "    y = Array(dtype=float, shape=(None,))\n",
    "    a = Float(1.0)\n",
    "    b = Float(1.0)\n",
    "    delta = Float(0.0)\n",
    "    plot = Any\n",
    "\n",
    "    @observe('tmax, n, a, b, delta')\n",
    "    def update(self, event=None):\n",
    "        t = np.linspace(0, self.tmax, self.n)\n",
    "        self.x = np.sin(self.a*t + self.delta)\n",
    "        self.y = np.sin(self.b*t)\n",
    "        if self.plot is None:\n",
    "            self.plot, = plt.plot(self.x, self.y)\n",
    "        else:\n",
    "            self.plot.set_data(self.x, self.y)\n",
    "            fig = plt.gcf()\n",
    "            fig.canvas.draw()\n"
   ]
  },
  {
   "cell_type": "code",
   "execution_count": null,
   "metadata": {},
   "outputs": [],
   "source": [
    "import matplotlib\n",
    "%matplotlib qt"
   ]
  },
  {
   "cell_type": "code",
   "execution_count": null,
   "metadata": {},
   "outputs": [],
   "source": [
    "l = Lissajous()"
   ]
  },
  {
   "cell_type": "code",
   "execution_count": null,
   "metadata": {},
   "outputs": [],
   "source": [
    "l.edit_traits()"
   ]
  },
  {
   "cell_type": "code",
   "execution_count": null,
   "metadata": {},
   "outputs": [],
   "source": [
    "plt.clf()\n",
    "plot, = plt.plot(l.x, l.y)"
   ]
  },
  {
   "cell_type": "code",
   "execution_count": null,
   "metadata": {},
   "outputs": [],
   "source": [
    "plot.set_data(l.x, l.y)"
   ]
  },
  {
   "cell_type": "code",
   "execution_count": null,
   "metadata": {
    "lines_to_next_cell": 0
   },
   "outputs": [],
   "source": [
    "l.a = 0.5\n",
    "l.n = 100"
   ]
  },
  {
   "cell_type": "markdown",
   "metadata": {},
   "source": [
    "\n"
   ]
  },
  {
   "cell_type": "markdown",
   "metadata": {
    "lines_to_next_cell": 2,
    "slideshow": {
     "slide_type": "slide"
    }
   },
   "source": [
    "## Full solution\n"
   ]
  },
  {
   "cell_type": "code",
   "execution_count": null,
   "metadata": {},
   "outputs": [],
   "source": [
    "from matplotlib import pyplot as plt\n",
    "from traits.api import Any, Array, HasTraits, Range, Float\n",
    "\n",
    "class Lissajous(HasTraits):\n",
    "    tmax = Range(1.0, 1000.0, value=10.0)\n",
    "    n = Range(10, 10000, value=100)\n",
    "    x = Array(dtype=float, shape=(None,))\n",
    "    y = Array(dtype=float, shape=(None,))\n",
    "    a = Float(1.0)\n",
    "    b = Float(1.0)\n",
    "    delta = Float(0.0)\n",
    "    plot = Any(None)\n",
    "\n",
    "    @observe('tmax, n, a, b, delta')\n",
    "    def update(self, event):\n",
    "        t = np.linspace(0, self.tmax, self.n)\n",
    "        self.x = np.sin(self.a*t + self.delta)\n",
    "        self.y = np.sin(self.b*t)\n",
    "        if self.plot is None:\n",
    "            self.plot, = plt.plot(self.x, self.y)\n",
    "        else:\n",
    "            self.plot.set_data(self.x, self.y)\n",
    "            fig = plt.gcf()\n",
    "            fig.canvas.draw()"
   ]
  },
  {
   "cell_type": "code",
   "execution_count": null,
   "metadata": {
    "lines_to_next_cell": 2
   },
   "outputs": [],
   "source": [
    "lj = Lissajous()\n",
    "lj.edit_traits()"
   ]
  },
  {
   "cell_type": "markdown",
   "metadata": {
    "slideshow": {
     "slide_type": "slide"
    }
   },
   "source": [
    "## More information\n",
    "\n",
    "- Only scratched the surface\n",
    "- Tutorial: https://docs.enthought.com/traits/traits_tutorial/index.html\n",
    "- User manual: https://docs.enthought.com/traits/traits_user_manual\n",
    "- https://github.com/enthought/traits\n",
    "- Clone git repo; run `examples/tutorials/tutor.py`\n",
    "- And many examples with a UI\n"
   ]
  },
  {
   "cell_type": "markdown",
   "metadata": {
    "lines_to_next_cell": 2,
    "slideshow": {
     "slide_type": "slide"
    }
   },
   "source": [
    "## The traits demos\n",
    "\n",
    "<img src=\"images/traits_demos.png\" height=\"90%\"/>\n"
   ]
  },
  {
   "cell_type": "markdown",
   "metadata": {
    "slideshow": {
     "slide_type": "slide"
    }
   },
   "source": [
    "## Exercise/homework\n",
    "\n",
    "- Take your julia set code (or the Mandelbrot set)\n",
    "- Make these into parameters\n",
    "  - The domain size (xmin, xmax, ymin, ymax)\n",
    "  - The maximum iterations\n",
    "  - The size of the array\n",
    "  - The constant value used, $C$ (for the Julia set)\n",
    "- Run the computation when any of these change"
   ]
  }
 ],
 "metadata": {
  "kernelspec": {
   "display_name": "Python 3",
   "language": "python",
   "name": "python3"
  }
 },
 "nbformat": 4,
 "nbformat_minor": 2
}
