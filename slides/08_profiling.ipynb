{
 "cells": [
  {
   "cell_type": "markdown",
   "id": "90b8de16",
   "metadata": {
    "lines_to_next_cell": 2,
    "slideshow": {
     "slide_type": "slide"
    }
   },
   "source": [
    "## Profiling code\n",
    "\n",
    "- Why and how of profiling\n",
    "- Specific tools: simple and advanced\n"
   ]
  },
  {
   "cell_type": "markdown",
   "id": "79b53864",
   "metadata": {
    "slideshow": {
     "slide_type": "slide"
    }
   },
   "source": [
    "## Why profile?\n",
    "\n",
    "- Profiling for time and memory\n",
    "- Not all code takes time (or consumes memory)\n",
    "- Where does one focus?\n",
    "- What matters and what does not?\n",
    "- Example three functions:\n",
    "  - func1: 5%\n",
    "  - func2: 40%\n",
    "  - func3: 35%\n"
   ]
  },
  {
   "cell_type": "markdown",
   "id": "396bbe11",
   "metadata": {
    "slideshow": {
     "slide_type": "slide"
    }
   },
   "source": [
    "## Approach\n",
    "\n",
    "- Use some profiling tool\n",
    "- Information on relative performance\n",
    "- Allow you to focus effort where it matters\n"
   ]
  },
  {
   "cell_type": "markdown",
   "id": "fc47ffb0",
   "metadata": {
    "slideshow": {
     "slide_type": "slide"
    }
   },
   "source": [
    "## Kinds of profilers\n",
    "\n",
    "- CPU time, GPU time, and memory\n",
    "- Function profilers: only function information\n",
    "- Line profilers: line by line information\n",
    "- Tracing (deterministic) vs Sampling\n",
    "- Instrumentation vs no instrumentation\n",
    "- Other things:\n",
    "  - Support for threads, multi-processing, c-extensions, GPU\n",
    "  - Overhead\n",
    "  - memory profiling\n"
   ]
  },
  {
   "cell_type": "markdown",
   "id": "3720d6aa",
   "metadata": {
    "slideshow": {
     "slide_type": "slide"
    }
   },
   "source": [
    "## Python profiling tools\n",
    "\n",
    "- Many many tools\n",
    "- stdlib: `profile`, `cProfile`\n",
    "- `line_profiler` and `kernprof`: a line-by-line profiler\n",
    "- pyinstrument, py-spy, Austin\n",
    "- Scalene\n",
    "\n"
   ]
  },
  {
   "cell_type": "markdown",
   "id": "32c32ddc",
   "metadata": {
    "slideshow": {
     "slide_type": "slide"
    }
   },
   "source": [
    "## Using the standard profilers\n",
    "\n",
    "- A quick demo\n",
    "\n",
    "```\n",
    "$ python -m cProfile -o result.prof simple_profile1.py\n",
    "```"
   ]
  },
  {
   "cell_type": "code",
   "execution_count": null,
   "id": "b0372363",
   "metadata": {},
   "outputs": [],
   "source": [
    "%cd ../code"
   ]
  },
  {
   "cell_type": "code",
   "execution_count": null,
   "id": "fa4f43af",
   "metadata": {
    "lines_to_next_cell": 2
   },
   "outputs": [],
   "source": [
    "import pstats\n",
    "p = pstats.Stats('result.prof')\n",
    "p.strip_dirs().sort_stats('cumulative').print_stats(20)"
   ]
  },
  {
   "cell_type": "markdown",
   "id": "0f23bf02",
   "metadata": {
    "slideshow": {
     "slide_type": "slide"
    }
   },
   "source": [
    "## IPython integration\n",
    "\n",
    "- Use `%run -p` or `%prun`\n",
    "- `%prun -l nlines -s key code`\n"
   ]
  },
  {
   "cell_type": "code",
   "execution_count": null,
   "id": "d67b2a3d",
   "metadata": {},
   "outputs": [],
   "source": [
    "%run?"
   ]
  },
  {
   "cell_type": "code",
   "execution_count": null,
   "id": "b3d64687",
   "metadata": {},
   "outputs": [],
   "source": [
    "%run -p -l 20 -s cumulative simple_profile1.py"
   ]
  },
  {
   "cell_type": "code",
   "execution_count": null,
   "id": "d677f35c",
   "metadata": {},
   "outputs": [],
   "source": [
    "from simple_profile1 import test_me\n",
    "%prun test_me()"
   ]
  },
  {
   "cell_type": "markdown",
   "id": "0b654f99",
   "metadata": {
    "slideshow": {
     "slide_type": "slide"
    }
   },
   "source": [
    "## Scalene: features\n",
    "\n",
    "- Sampling profiler: very fast (low overhead)\n",
    "- Function and line-by-line\n",
    "- No instrumentation needed\n",
    "- Supports threads, multi-processing, system time/python time, GPU\n",
    "- Support for memory profiling, copy volumes, memory leaks\n",
    "- https://github.com/plasma-umass/scalene\n"
   ]
  },
  {
   "cell_type": "markdown",
   "id": "93adebff",
   "metadata": {
    "lines_to_next_cell": 2,
    "slideshow": {
     "slide_type": "slide"
    }
   },
   "source": [
    "## Scalene: usage examples\n",
    "\n",
    "- Install with pip as usual\n",
    "\n",
    "```\n",
    "$ scalene program.py\n",
    "\n",
    "$ scalene --help\n",
    "\n",
    "$ python -m scalene prog.py\n",
    "\n",
    "$ scalene --reduced-profile prog.py\n",
    "\n",
    "$ scalene --html --outfile prof.html prog.py\n",
    "\n",
    "```\n"
   ]
  },
  {
   "cell_type": "markdown",
   "id": "b71df50b",
   "metadata": {
    "slideshow": {
     "slide_type": "slide"
    }
   },
   "source": [
    "## Demo of features\n",
    "\n",
    "- Function profiling\n",
    "- Line-by-line\n",
    "- Python vs Native\n",
    "- Memory\n",
    "- Copy\n",
    "- Sparklines\n",
    "- IPython support: `%load_ext scalene`, `%scrun`\n",
    "\n"
   ]
  },
  {
   "cell_type": "markdown",
   "id": "75f22544",
   "metadata": {
    "slideshow": {
     "slide_type": "slide"
    }
   },
   "source": [
    "## Takeaways\n",
    "\n",
    "- Profile code first before optimizing\n",
    "- No point profiling something that is already quick\n",
    "- Start at the function level\n",
    "- Drill down to line by line\n",
    "- Push execution time to native rather than Python\n",
    "- Look for copying/memory also\n",
    "\n"
   ]
  }
 ],
 "metadata": {
  "kernelspec": {
   "display_name": "Python 3 (ipykernel)",
   "language": "python",
   "name": "python3"
  }
 },
 "nbformat": 4,
 "nbformat_minor": 5
}
