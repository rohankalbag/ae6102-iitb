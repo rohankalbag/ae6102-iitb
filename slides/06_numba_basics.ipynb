{
 "cells": [
  {
   "cell_type": "markdown",
   "id": "e047ad4b",
   "metadata": {
    "slideshow": {
     "slide_type": "slide"
    }
   },
   "source": [
    "## Introduction to numba\n",
    "\n",
    "- Accelerate pure Python code\n",
    "- JIT compiler\n",
    "- Easy to use\n",
    "- Supports some parallelization (YMMV)\n",
    "- Ability to write GPU code (from Python)\n",
    "- https://numba.pydata.org\n",
    "- Cross platform\n"
   ]
  },
  {
   "cell_type": "markdown",
   "id": "0b051115",
   "metadata": {
    "slideshow": {
     "slide_type": "slide"
    }
   },
   "source": [
    "## How does it work?\n",
    "\n",
    "- Analyzes your code\n",
    "- Generates low level machine code\n",
    "- Uses LLVM (same as some other popular languages)\n"
   ]
  },
  {
   "cell_type": "markdown",
   "id": "59f88c2e",
   "metadata": {
    "slideshow": {
     "slide_type": "slide"
    }
   },
   "source": [
    "## Installation\n",
    "\n",
    "- Use `conda` or `pip`\n",
    "- Should work on most OSs\n"
   ]
  },
  {
   "cell_type": "markdown",
   "id": "8749c6a0",
   "metadata": {
    "slideshow": {
     "slide_type": "slide"
    }
   },
   "source": [
    "## Features\n",
    "\n",
    "- Can happily use numpy code\n",
    "- Broadcasting and numpy-style indexing\n",
    "- Pure Python data structures will not be faster\n",
    "- Nor will generic Python modules like pandas etc.\n",
    "- Much easier to write than native GPU code for GPU execution\n",
    "\n",
    "<br/>\n",
    "\n",
    "- Ideally suited for numerical computation\n"
   ]
  },
  {
   "cell_type": "markdown",
   "id": "9f4c25e3",
   "metadata": {
    "slideshow": {
     "slide_type": "slide"
    }
   },
   "source": [
    "## Simple example\n",
    "\n",
    "- Will try something in Python\n",
    "- Compare with numba\n"
   ]
  },
  {
   "cell_type": "code",
   "execution_count": null,
   "id": "634fc4c7",
   "metadata": {},
   "outputs": [],
   "source": [
    "import numpy as np\n",
    "import numba"
   ]
  },
  {
   "cell_type": "code",
   "execution_count": null,
   "id": "f09d9158",
   "metadata": {},
   "outputs": [],
   "source": [
    "def vaxpb(y, x, a, b):\n",
    "    y[:] = a*x + np.sin(b)"
   ]
  },
  {
   "cell_type": "code",
   "execution_count": null,
   "id": "95319ae2",
   "metadata": {},
   "outputs": [],
   "source": [
    "def axpb(y, x, a, b):\n",
    "    for i in range(y.shape[0]):\n",
    "        y[i] = a[i]*x[i] + np.sin(b[i])"
   ]
  },
  {
   "cell_type": "markdown",
   "id": "55139cd0",
   "metadata": {
    "lines_to_next_cell": 2,
    "slideshow": {
     "slide_type": "slide"
    }
   },
   "source": [
    "## Performance with numpy\n"
   ]
  },
  {
   "cell_type": "code",
   "execution_count": null,
   "id": "c829ff94",
   "metadata": {},
   "outputs": [],
   "source": [
    "def make_data(n):\n",
    "    x = np.linspace(0, 2*np.pi, n)\n",
    "    a, b = np.random.random((2, n))\n",
    "    y = np.zeros_like(x)\n",
    "    return y, x, a, b"
   ]
  },
  {
   "cell_type": "markdown",
   "id": "b95c91b2",
   "metadata": {},
   "source": [
    "```python\n",
    "y, x, a, b = make_data(100)\n",
    "```"
   ]
  },
  {
   "cell_type": "code",
   "execution_count": null,
   "id": "c02ebaa3",
   "metadata": {},
   "outputs": [],
   "source": [
    "y, x, a, b = make_data(1000)"
   ]
  },
  {
   "cell_type": "code",
   "execution_count": null,
   "id": "50adc315",
   "metadata": {},
   "outputs": [],
   "source": [
    "%timeit vaxpb(y, x, a, b)"
   ]
  },
  {
   "cell_type": "code",
   "execution_count": null,
   "id": "c6d7d588",
   "metadata": {
    "lines_to_next_cell": 2
   },
   "outputs": [],
   "source": [
    "%timeit axpb(y, x, a, b)"
   ]
  },
  {
   "cell_type": "markdown",
   "id": "766b6f26",
   "metadata": {
    "slideshow": {
     "slide_type": "slide"
    }
   },
   "source": [
    "## With numba\n"
   ]
  },
  {
   "cell_type": "code",
   "execution_count": null,
   "id": "ae46d26d",
   "metadata": {},
   "outputs": [],
   "source": [
    "@numba.njit\n",
    "def nvaxpb(y, x, a, b):\n",
    "    y[:] = a*x + np.sin(b)"
   ]
  },
  {
   "cell_type": "code",
   "execution_count": null,
   "id": "dfef8571",
   "metadata": {},
   "outputs": [],
   "source": [
    "def dumb_dec(f):\n",
    "    print(\"Haha I got the function 2\")\n",
    "    def _shadow_f(x):\n",
    "        print(\"I am called every time!\")\n",
    "        return f(x)\n",
    "    return _shadow_f"
   ]
  },
  {
   "cell_type": "code",
   "execution_count": null,
   "id": "8e35a9dc",
   "metadata": {},
   "outputs": [],
   "source": [
    "@dumb_dec\n",
    "def g(x):\n",
    "    return x + 1"
   ]
  },
  {
   "cell_type": "code",
   "execution_count": null,
   "id": "daa02c2c",
   "metadata": {},
   "outputs": [],
   "source": [
    "g(1)"
   ]
  },
  {
   "cell_type": "markdown",
   "id": "54841a96",
   "metadata": {},
   "source": [
    "Same as:"
   ]
  },
  {
   "cell_type": "code",
   "execution_count": null,
   "id": "a2f4e440",
   "metadata": {},
   "outputs": [],
   "source": [
    "nvaxpb = numba.njit(vaxpb)"
   ]
  },
  {
   "cell_type": "code",
   "execution_count": null,
   "id": "ac12667f",
   "metadata": {},
   "outputs": [],
   "source": [
    "naxpb = numba.njit(axpb)"
   ]
  },
  {
   "cell_type": "code",
   "execution_count": null,
   "id": "2c7841fa",
   "metadata": {},
   "outputs": [],
   "source": [
    "%timeit nvaxpb(y, x, a, b)"
   ]
  },
  {
   "cell_type": "code",
   "execution_count": null,
   "id": "3c7bca1f",
   "metadata": {},
   "outputs": [],
   "source": [
    "%timeit naxpb(y, x, a, b)"
   ]
  },
  {
   "cell_type": "markdown",
   "id": "7b27fca6",
   "metadata": {
    "slideshow": {
     "slide_type": "slide"
    }
   },
   "source": [
    "## Some details\n",
    "\n",
    "- `numba.njit` == `numba.jit(nopython=True)`\n",
    "- What is nopython?\n",
    "- Avoid using it\n"
   ]
  },
  {
   "cell_type": "markdown",
   "id": "e2dd62b4",
   "metadata": {
    "slideshow": {
     "slide_type": "slide"
    }
   },
   "source": [
    "## Parallel computing\n",
    "\n",
    "- This has been somewhat experimental\n"
   ]
  },
  {
   "cell_type": "code",
   "execution_count": null,
   "id": "dcaed195",
   "metadata": {},
   "outputs": [],
   "source": [
    "from numba import prange\n",
    "@numba.njit(parallel=True)\n",
    "def paxpb(y, x, a, b):\n",
    "    for i in prange(y.shape[0]):\n",
    "        y[i] = a[i]*x[i] + np.sin(b[i])\n"
   ]
  },
  {
   "cell_type": "markdown",
   "id": "52d5148e",
   "metadata": {},
   "source": [
    "- Doesn't work for me!"
   ]
  },
  {
   "cell_type": "code",
   "execution_count": null,
   "id": "dd4061f5",
   "metadata": {},
   "outputs": [],
   "source": [
    "y, x, a, b = make_data(1000000)"
   ]
  },
  {
   "cell_type": "code",
   "execution_count": null,
   "id": "49967b98",
   "metadata": {},
   "outputs": [],
   "source": [
    "%timeit paxpb(y, x, a, b)"
   ]
  },
  {
   "cell_type": "code",
   "execution_count": null,
   "id": "0ada5299",
   "metadata": {},
   "outputs": [],
   "source": [
    "@numba.njit(parallel=True)\n",
    "def pvaxpb(y, x, a, b):\n",
    "    y[:] = a*x + np.sin(b)"
   ]
  },
  {
   "cell_type": "markdown",
   "id": "7ecf4f95",
   "metadata": {},
   "source": [
    "- Works and is very fast."
   ]
  },
  {
   "cell_type": "code",
   "execution_count": null,
   "id": "75723944",
   "metadata": {},
   "outputs": [],
   "source": [
    "%timeit pvaxpb(y, x, a, b)"
   ]
  },
  {
   "cell_type": "code",
   "execution_count": null,
   "id": "332e5371",
   "metadata": {},
   "outputs": [],
   "source": [
    "@numba.vectorize\n",
    "def junk(x):\n",
    "    if x > 0:\n",
    "        return np.sin(x)\n",
    "    else:\n",
    "        return np.cos(x)"
   ]
  },
  {
   "cell_type": "code",
   "execution_count": null,
   "id": "ae146625",
   "metadata": {},
   "outputs": [],
   "source": [
    "x = np.linspace(-1, 1, 100000)"
   ]
  },
  {
   "cell_type": "code",
   "execution_count": null,
   "id": "17b3d2d3",
   "metadata": {},
   "outputs": [],
   "source": [
    "%timeit junk(x)"
   ]
  },
  {
   "cell_type": "markdown",
   "id": "220b3275",
   "metadata": {
    "slideshow": {
     "slide_type": "slide"
    }
   },
   "source": [
    "## More options\n",
    "\n",
    "- `@vectorize` - numpy ufuncs\n",
    "\n",
    "- `@jitclass` - for jitted classes\n",
    "\n",
    "- Many more: see documentation: https://numba.pydata.org\n",
    "\n",
    "- Possible to get excellent performance with Python\n",
    "- Use the right tools\n"
   ]
  }
 ],
 "metadata": {
  "kernelspec": {
   "display_name": "Python 3 (ipykernel)",
   "language": "python",
   "name": "python3"
  }
 },
 "nbformat": 4,
 "nbformat_minor": 5
}
