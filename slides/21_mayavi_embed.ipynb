{
 "cells": [
  {
   "cell_type": "markdown",
   "metadata": {
    "slideshow": {
     "slide_type": "slide"
    }
   },
   "source": [
    "## Embedding a Mayavi plot\n",
    "\n",
    "- Similar approach to chaco\n",
    "- Mayavi provides:\n",
    "  - `MlabSceneModel`: Like Chaco's Plot.\n",
    "  - `SceneEditor`: Like the ComponentEditor\n",
    "- Examples\n"
   ]
  },
  {
   "cell_type": "code",
   "execution_count": null,
   "metadata": {},
   "outputs": [],
   "source": [
    "# %load code/mayavi_simple.py\n",
    "import numpy as np\n",
    "from traits.api import HasTraits, Instance, observe\n",
    "from traitsui.api import Item, View\n",
    "from mayavi.core.ui.api import MayaviScene, MlabSceneModel, SceneEditor, DecoratedScene\n",
    "\n",
    "\n",
    "class Plot3D(HasTraits):\n",
    "    scene = Instance(MlabSceneModel, args=())\n",
    "    view = View(Item(name='scene',\n",
    "                     editor=SceneEditor(scene_class=DecoratedScene),\n",
    "                     show_label=False, resizable=True,\n",
    "                     height=500, width=500),\n",
    "                resizable=True)\n",
    "\n",
    "    @observe('scene.activated')\n",
    "    def generate_data(self, event=None):\n",
    "        # Create some data\n",
    "        x, y = np.mgrid[-2:2:100j, -2:2:100j]\n",
    "        r = 10*np.sqrt(x**2 + y**2)\n",
    "        z = np.sin(r)/r\n",
    "        self.scene.mlab.surf(x, y, z, colormap='gist_earth')\n",
    "\n",
    "\n",
    "if __name__ == '__main__':\n",
    "    Plot3D().configure_traits()\n"
   ]
  },
  {
   "cell_type": "markdown",
   "metadata": {
    "slideshow": {
     "slide_type": "slide"
    }
   },
   "source": [
    "## Another simple example\n"
   ]
  },
  {
   "cell_type": "code",
   "execution_count": null,
   "metadata": {
    "lines_to_next_cell": 2
   },
   "outputs": [],
   "source": [
    "# %load code/mlab_interactive_dialog.py\n",
    "from numpy import arange, pi, cos, sin\n",
    "\n",
    "from traits.api import HasTraits, Range, Instance, observe\n",
    "from traitsui.api import View, Item, Group\n",
    "\n",
    "from mayavi.core.api import PipelineBase\n",
    "from mayavi.core.ui.api import MayaviScene, SceneEditor, \\\n",
    "                MlabSceneModel\n",
    "\n",
    "\n",
    "dphi = pi/1000.\n",
    "phi = arange(0.0, 2*pi + 0.5*dphi, dphi, 'd')\n",
    "\n",
    "\n",
    "def curve(n_mer, n_long):\n",
    "    mu = phi*n_mer\n",
    "    x = cos(mu) * (1 + cos(n_long * mu/n_mer)*0.5)\n",
    "    y = sin(mu) * (1 + cos(n_long * mu/n_mer)*0.5)\n",
    "    z = 0.5 * sin(n_long*mu/n_mer)\n",
    "    t = sin(mu)\n",
    "    return x, y, z, t\n",
    "\n",
    "\n",
    "class MyModel(HasTraits):\n",
    "    n_meridional = Range(0, 30, 6)\n",
    "    n_longitudinal = Range(0, 30, 11)\n",
    "\n",
    "    scene = Instance(MlabSceneModel, ())\n",
    "\n",
    "    plot = Instance(PipelineBase)\n",
    "\n",
    "\n",
    "    # When the scene is activated, or when the parameters are changed, we\n",
    "    # update the plot.\n",
    "    @observe('n_meridional,n_longitudinal,scene.activated')\n",
    "    def update_plot(self, event=None):\n",
    "        x, y, z, t = curve(self.n_meridional, self.n_longitudinal)\n",
    "        if self.plot is None:\n",
    "            self.plot = self.scene.mlab.plot3d(\n",
    "                x, y, z, t, tube_radius=0.025, colormap='Spectral'\n",
    "            )\n",
    "        else:\n",
    "            self.plot.mlab_source.trait_set(x=x, y=y, z=z, scalars=t)\n",
    "\n",
    "    # The layout of the dialog created\n",
    "    view = View(Item('scene', editor=SceneEditor(scene_class=MayaviScene),\n",
    "                     height=250, width=300, show_label=False),\n",
    "                Group(\n",
    "                        '_', 'n_meridional', 'n_longitudinal',\n",
    "                     ),\n",
    "                resizable=True,\n",
    "                )\n",
    "\n",
    "\n",
    "my_model = MyModel()\n",
    "my_model.configure_traits()\n"
   ]
  },
  {
   "cell_type": "markdown",
   "metadata": {
    "slideshow": {
     "slide_type": "slide"
    }
   },
   "source": [
    "## More complex example\n"
   ]
  },
  {
   "cell_type": "code",
   "execution_count": null,
   "metadata": {},
   "outputs": [],
   "source": [
    "%load code/lorenz_ui.py"
   ]
  },
  {
   "cell_type": "markdown",
   "metadata": {
    "slideshow": {
     "slide_type": "slide"
    }
   },
   "source": [
    "## Exercise\n",
    "\n",
    "- Pick some problem we solved\n",
    "- Plot it using Mayavi with a useful UI\n"
   ]
  }
 ],
 "metadata": {
  "kernelspec": {
   "display_name": "Python 3",
   "language": "python",
   "name": "python3"
  }
 },
 "nbformat": 4,
 "nbformat_minor": 2
}
