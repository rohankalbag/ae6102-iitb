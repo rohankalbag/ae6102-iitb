{
 "cells": [
  {
   "cell_type": "markdown",
   "metadata": {
    "slideshow": {
     "slide_type": "slide"
    }
   },
   "source": [
    "## TraitsUI: Easy GUI building\n",
    "\n",
    "- Meant for traits\n",
    "- Declarative UI\n",
    "- Interoperates with Qt and wxPython\n",
    "- Docs: https://docs.enthought.com/traitsui\n",
    "- GH: https://github.com/enthought/traitsui\n"
   ]
  },
  {
   "cell_type": "markdown",
   "metadata": {
    "slideshow": {
     "slide_type": "slide"
    }
   },
   "source": [
    "## Approach\n",
    "\n",
    "- Just declare what needs to be done\n",
    "- Do not need to write a lot of code\n",
    "- Embed 2D plots with `chaco`\n",
    "- Embed 3D plots with `mayavi`\n",
    "- Build rich scientific dialogs\n"
   ]
  },
  {
   "cell_type": "markdown",
   "metadata": {
    "slideshow": {
     "slide_type": "slide"
    }
   },
   "source": [
    "## Model-View-Controller (MVC) design pattern\n",
    "\n",
    "- Model: manages data, state, and internal logic\n",
    "- View: presents the model in a graphically interactive way\n",
    "- Controller: manages information between view and model\n",
    "\n",
    "<br/>\n",
    "\n",
    "- For simple cases, View and Controller may be the same\n"
   ]
  },
  {
   "cell_type": "markdown",
   "metadata": {
    "lines_to_next_cell": 2,
    "slideshow": {
     "slide_type": "slide"
    }
   },
   "source": [
    "## MVC with traitsui\n",
    "\n",
    "- Model: `HasTraits` object\n",
    "- View: `traitsui`,  `View` class\n",
    "- Controller: `traitsui` `Handler` class\n"
   ]
  },
  {
   "cell_type": "markdown",
   "metadata": {
    "slideshow": {
     "slide_type": "slide"
    }
   },
   "source": [
    "## Views\n",
    "\n",
    "- A declarative specification for a GUI\n",
    "- Made up of `Item` and `Group` objects\n"
   ]
  },
  {
   "cell_type": "markdown",
   "metadata": {
    "slideshow": {
     "slide_type": "slide"
    }
   },
   "source": [
    "## Simple example\n"
   ]
  },
  {
   "cell_type": "code",
   "execution_count": null,
   "metadata": {},
   "outputs": [],
   "source": [
    "from traits.api import HasTraits, Int, Str, Enum\n",
    "\n",
    "class Person(HasTraits):\n",
    "    name = Str()\n",
    "    age = Int()\n",
    "    gender = Enum('female', 'male', 'other')\n"
   ]
  },
  {
   "cell_type": "code",
   "execution_count": null,
   "metadata": {},
   "outputs": [],
   "source": [
    "%gui qt"
   ]
  },
  {
   "cell_type": "code",
   "execution_count": null,
   "metadata": {},
   "outputs": [],
   "source": [
    "p = Person(name='Worf')\n",
    "p.edit_traits()"
   ]
  },
  {
   "cell_type": "markdown",
   "metadata": {
    "slideshow": {
     "slide_type": "slide"
    }
   },
   "source": [
    "## Specifying a View\n",
    "\n"
   ]
  },
  {
   "cell_type": "code",
   "execution_count": null,
   "metadata": {},
   "outputs": [],
   "source": [
    "from traitsui.api import Item, View\n",
    "view1 = View(\n",
    "    Item(name='name', style='readonly'),\n",
    "    Item(name='age'),\n",
    "    Item(name='gender', visible_when='age > 10'),\n",
    ")"
   ]
  },
  {
   "cell_type": "code",
   "execution_count": null,
   "metadata": {},
   "outputs": [],
   "source": [
    "p.edit_traits(view=view1)"
   ]
  },
  {
   "cell_type": "markdown",
   "metadata": {
    "slideshow": {
     "slide_type": "slide"
    }
   },
   "source": [
    "## Common attributes of `Item`\n",
    "\n",
    "- `label`: UI label instead of the name\n",
    "- `show_label`: Bool\n",
    "- `tooltip`/`help`: Str\n",
    "- `editor`: `ItemEditor` to use\n",
    "- `style`: `{'simple', custom', 'text', 'readonly'}`\n",
    "- `enabled_when`, `visible_when`, `defined_when`: Python expression\n",
    "- `resizable`: bool\n"
   ]
  },
  {
   "cell_type": "markdown",
   "metadata": {
    "slideshow": {
     "slide_type": "slide"
    }
   },
   "source": [
    "## Groups\n",
    "\n",
    "- Handy for complex UIs\n",
    "- Common attributes:\n",
    "   - `columns`\n",
    "   - `label`\n",
    "   - `layout`: `{'normal', 'flow', 'split', 'tabbed'}`\n",
    "   - `orientation`: ` {'vertical', 'horizontal'}`\n",
    "   - `show_border`: bool\n",
    "   - `enabled_when`, `visible_when`, `defined_when`: Python expression\n",
    "- `HGroup`, `VGroup`, `HSplit`, `VSplit`, `Tabbed`: shortcuts\n"
   ]
  },
  {
   "cell_type": "markdown",
   "metadata": {
    "slideshow": {
     "slide_type": "slide"
    }
   },
   "source": [
    "## A simpler way\n"
   ]
  },
  {
   "cell_type": "code",
   "execution_count": null,
   "metadata": {},
   "outputs": [],
   "source": [
    "from traitsui.api import Group\n",
    "\n",
    "class Person(HasTraits):\n",
    "    name = Str()\n",
    "    age = Int()\n",
    "    gender = Enum('female', 'male', 'other')\n",
    "\n",
    "    traits_view = View(\n",
    "      Group(\n",
    "        Item(name='name'),\n",
    "        Item(name='age'),\n",
    "        Item(name='gender'),\n",
    "        label='Personnel profile',\n",
    "        show_border=True\n",
    "      )\n",
    "    )"
   ]
  },
  {
   "cell_type": "code",
   "execution_count": null,
   "metadata": {},
   "outputs": [],
   "source": [
    "p = Person(name='Worf', age=20)\n",
    "p.edit_traits()"
   ]
  },
  {
   "cell_type": "code",
   "execution_count": null,
   "metadata": {},
   "outputs": [],
   "source": []
  },
  {
   "cell_type": "markdown",
   "metadata": {
    "slideshow": {
     "slide_type": "slide"
    }
   },
   "source": [
    "## View attributes\n",
    "\n",
    "- `dock`: `{'fixed', 'horizontal', 'vertical', 'tabbed'}`\n",
    "- `height`/`width`\n",
    "- `icon`/`image`\n",
    "- `resizable`\n",
    "- `scrollable`\n",
    "- `title`\n",
    "- `buttons`\n",
    "- `key_bindings`\n",
    "- See docs for more: https://docs.enthought.com/traitsui/traitsui_user_manual/\n"
   ]
  },
  {
   "cell_type": "code",
   "execution_count": null,
   "metadata": {},
   "outputs": [],
   "source": [
    "from traitsui.api import CancelButton, OKButton\n",
    "\n",
    "class Person(HasTraits):\n",
    "    name = Str()\n",
    "    age = Int()\n",
    "    gender = Enum('female', 'male', 'other')\n",
    "\n",
    "    traits_view = View(\n",
    "      Group(\n",
    "        Item(name='name'),\n",
    "        Item(name='age'),\n",
    "        Item(name='gender'),\n",
    "        label='Personnel profile',\n",
    "        show_border=True,\n",
    "      ),\n",
    "      buttons=[OKButton, CancelButton]\n",
    "    )"
   ]
  },
  {
   "cell_type": "code",
   "execution_count": null,
   "metadata": {},
   "outputs": [],
   "source": [
    "p.edit_traits()"
   ]
  },
  {
   "cell_type": "code",
   "execution_count": null,
   "metadata": {
    "lines_to_next_cell": 2
   },
   "outputs": [],
   "source": [
    "p = Person(name='Worf', age=20)\n",
    "p.edit_traits()"
   ]
  },
  {
   "cell_type": "markdown",
   "metadata": {
    "slideshow": {
     "slide_type": "slide"
    }
   },
   "source": [
    "## Toolkit selection\n",
    "\n",
    "- TraitsUI supports: Qt or wxPython\n",
    "- Can set the toolkit in a program\n",
    "    - 'qt' or 'qt4'\n",
    "    - 'wx'\n",
    "    - 'null'\n",
    "- Or with the `ETS_TOOLKIT` environment variable\n",
    "\n",
    "```\n",
    "export ETS_TOOLKIT=qt\n",
    "```\n"
   ]
  },
  {
   "cell_type": "code",
   "execution_count": null,
   "metadata": {
    "lines_to_next_cell": 0
   },
   "outputs": [],
   "source": [
    "from traits.etsconfig.api import ETSConfig\n",
    "ETSConfig.toolkit = 'qt'"
   ]
  },
  {
   "cell_type": "markdown",
   "metadata": {},
   "source": [
    "\n"
   ]
  },
  {
   "cell_type": "markdown",
   "metadata": {
    "slideshow": {
     "slide_type": "slide"
    }
   },
   "source": [
    "## Exercise\n",
    "\n",
    "- The Lissajous curves example\n",
    "- Create a nice UI for this example\n",
    "- Do not show `x`, and `y` arrays\n",
    "- Plot the data with matplotlib\n"
   ]
  },
  {
   "cell_type": "code",
   "execution_count": null,
   "metadata": {},
   "outputs": [],
   "source": [
    "import numpy as np\n",
    "from matplotlib import pyplot as plt\n",
    "from traits.api import Any, Array, HasTraits, Range, Float, observe\n",
    "from traitsui.api import View, Item, Group\n",
    "\n",
    "class Lissajous(HasTraits):\n",
    "    tmax = Range(1.0, 1000.0, value=10.0)\n",
    "    n = Range(10, 10000, value=100)\n",
    "    x = Array(dtype=float, shape=(None,))\n",
    "    y = Array(dtype=float, shape=(None,))\n",
    "    a = Range(0.0, 10.0, 1.0)\n",
    "    b = Range(0.0, 10.0, 1.0)\n",
    "    delta = Range(0.0, 10.0, 0.0)\n",
    "    plot = Any(None)\n",
    "    view = View(\n",
    "        Item('a'),\n",
    "        Item('b'),\n",
    "        Item('delta'),\n",
    "        Item('n'),\n",
    "        Item('tmax')\n",
    "    )\n",
    "\n",
    "    @observe('tmax, n, a, b, delta')\n",
    "    def update(self, event):\n",
    "        t = np.linspace(0, self.tmax, self.n)\n",
    "        self.x = np.sin(self.a*t + self.delta)\n",
    "        self.y = np.sin(self.b*t)\n",
    "        if self.plot is None:\n",
    "            self.plot, = plt.plot(self.x, self.y)\n",
    "        else:\n",
    "            self.plot.set_data(self.x, self.y)\n",
    "            fig = plt.gcf()\n",
    "            fig.canvas.draw()"
   ]
  },
  {
   "cell_type": "code",
   "execution_count": null,
   "metadata": {},
   "outputs": [],
   "source": [
    "%matplotlib qt"
   ]
  },
  {
   "cell_type": "code",
   "execution_count": null,
   "metadata": {},
   "outputs": [],
   "source": [
    "lj = Lissajous()\n",
    "lj.edit_traits()"
   ]
  },
  {
   "cell_type": "markdown",
   "metadata": {
    "lines_to_next_cell": 2,
    "slideshow": {
     "slide_type": "slide"
    }
   },
   "source": [
    "## Other documentation\n",
    "\n",
    "- Interesting tutorial: https://docs.enthought.com/traitsui/tutorials\n"
   ]
  },
  {
   "cell_type": "markdown",
   "metadata": {
    "slideshow": {
     "slide_type": "slide"
    }
   },
   "source": [
    "## Doing more\n",
    "\n",
    "- Many other libraries: https://docs.enthought.com/ets/\n"
   ]
  }
 ],
 "metadata": {
  "kernelspec": {
   "display_name": "Python 3",
   "language": "python",
   "name": "python3"
  }
 },
 "nbformat": 4,
 "nbformat_minor": 2
}
