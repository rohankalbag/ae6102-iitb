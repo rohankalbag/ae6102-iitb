{
 "cells": [
  {
   "cell_type": "code",
   "execution_count": 1,
   "metadata": {},
   "outputs": [],
   "source": [
    "%gui qt"
   ]
  },
  {
   "cell_type": "code",
   "execution_count": 2,
   "metadata": {},
   "outputs": [],
   "source": [
    "import numpy as np\n",
    "from mayavi import mlab"
   ]
  },
  {
   "cell_type": "code",
   "execution_count": 3,
   "metadata": {},
   "outputs": [],
   "source": [
    "def lorenz(k, t, s=10., r=28., b=8./3):\n",
    "    x, y, z = k\n",
    "    derivative = [s*(y - x), r*x - y - x*z, x*y -b*z]\n",
    "    return derivative"
   ]
  },
  {
   "cell_type": "code",
   "execution_count": 4,
   "metadata": {},
   "outputs": [],
   "source": [
    "from scipy.integrate import odeint\n",
    "epsilon = 1e-3\n",
    "\n",
    "s1 = np.array([0, 0, 0], dtype=float)\n",
    "s2 = np.array([epsilon, 0, 0], dtype=float)\n",
    "s3 = np.array([0, epsilon, 0], dtype=float)\n",
    "t = np.linspace(0, 10, 100)"
   ]
  },
  {
   "cell_type": "code",
   "execution_count": 5,
   "metadata": {},
   "outputs": [],
   "source": [
    "sol1 = odeint(lorenz, s1, t, args=(10., 28., 8./3))"
   ]
  },
  {
   "cell_type": "code",
   "execution_count": 6,
   "metadata": {},
   "outputs": [],
   "source": [
    "sol2 = odeint(lorenz, s2, t, args=(10., 28., 8./3))"
   ]
  },
  {
   "cell_type": "code",
   "execution_count": 7,
   "metadata": {},
   "outputs": [],
   "source": [
    "x, y, z = sol2.T"
   ]
  },
  {
   "cell_type": "code",
   "execution_count": 12,
   "metadata": {},
   "outputs": [
    {
     "name": "stderr",
     "output_type": "stream",
     "text": [
      "libpng warning: iCCP: known incorrect sRGB profile\n"
     ]
    }
   ],
   "source": [
    "s = mlab.plot3d(x, y, z, tube_radius=None)"
   ]
  },
  {
   "cell_type": "code",
   "execution_count": 15,
   "metadata": {},
   "outputs": [],
   "source": [
    "@mlab.animate\n",
    "def anim():\n",
    "    mlab.plot3d(x, y, z, tube_radius=None)\n",
    "    for i in range(len(x)):\n",
    "        mlab.points3d(x[i], y[i], z[i])\n",
    "        yield"
   ]
  },
  {
   "cell_type": "code",
   "execution_count": 16,
   "metadata": {},
   "outputs": [],
   "source": [
    "a = anim()"
   ]
  }
 ],
 "metadata": {
  "kernelspec": {
   "display_name": "ae6102",
   "language": "python",
   "name": "python3"
  },
  "language_info": {
   "codemirror_mode": {
    "name": "ipython",
    "version": 3
   },
   "file_extension": ".py",
   "mimetype": "text/x-python",
   "name": "python",
   "nbconvert_exporter": "python",
   "pygments_lexer": "ipython3",
   "version": "3.8.10"
  },
  "orig_nbformat": 4
 },
 "nbformat": 4,
 "nbformat_minor": 2
}
