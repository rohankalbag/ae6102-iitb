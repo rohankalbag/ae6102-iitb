{
 "cells": [
  {
   "cell_type": "markdown",
   "metadata": {
    "slideshow": {
     "slide_type": "slide"
    }
   },
   "source": [
    "# Using `mayavi.mlab`: going deeper\n",
    "\n",
    "**Prabhu Ramachandran**\n",
    "\n",
    "**Department of Aerospace Engineering, IIT Bombay**\n",
    "\n",
    "<br/>\n"
   ]
  },
  {
   "cell_type": "markdown",
   "metadata": {
    "slideshow": {
     "slide_type": "slide"
    }
   },
   "source": [
    "## Outline\n",
    "\n",
    "- Getting started with `mlab`\n",
    "- Using `mlab`\n",
    "   - The basics\n",
    "   - Animation\n",
    "- **Going deeper**  $\\Longleftarrow$\n",
    "   - The pipeline\n",
    "   - Data sources\n"
   ]
  },
  {
   "cell_type": "code",
   "execution_count": 1,
   "metadata": {
    "slideshow": {
     "slide_type": "slide"
    }
   },
   "outputs": [],
   "source": [
    "%gui qt"
   ]
  },
  {
   "cell_type": "code",
   "execution_count": 2,
   "metadata": {},
   "outputs": [],
   "source": [
    "import numpy as np\n",
    "from mayavi import mlab"
   ]
  },
  {
   "cell_type": "markdown",
   "metadata": {
    "slideshow": {
     "slide_type": "slide"
    }
   },
   "source": [
    "## Recap\n"
   ]
  },
  {
   "cell_type": "code",
   "execution_count": 3,
   "metadata": {},
   "outputs": [],
   "source": [
    "def lorenz(x, y, z, s=10.,r=28.,\n",
    "           b=8./3.):\n",
    "    u = s*(y-x)\n",
    "    v = r*x -y - x*z\n",
    "    w = x*y - b*z\n",
    "    return u, v, w\n",
    "\n",
    "x, y, z = np.mgrid[-50:50:20j,-50:50:20j,\n",
    "                   -10:60:20j]\n",
    "u, v, w = lorenz(x, y, z)"
   ]
  },
  {
   "cell_type": "code",
   "execution_count": 7,
   "metadata": {
    "slideshow": {
     "slide_type": "slide"
    }
   },
   "outputs": [
    {
     "data": {
      "text/plain": [
       "<mayavi.modules.vectors.Vectors at 0x7f297642aea0>"
      ]
     },
     "execution_count": 7,
     "metadata": {},
     "output_type": "execute_result"
    }
   ],
   "source": [
    "mlab.quiver3d(\n",
    "    x, y, z, u, v, w,\n",
    "    scale_factor=0.01,\n",
    "    mask_points=5\n",
    ")"
   ]
  },
  {
   "cell_type": "markdown",
   "metadata": {
    "slideshow": {
     "slide_type": "slide"
    }
   },
   "source": [
    "## Changing the pipeline\n",
    "\n",
    "### On UI\n",
    "\n",
    "* Right click on node\n",
    "* Mayavi app: also in app menus\n",
    "* drag drop\n",
    "\n",
    "### Script\n",
    "\n",
    "* Or use `mlab.pipeline`\n",
    "* Example: `mlab.pipeline.outline()`\n",
    "* We look at more useful methods later\n"
   ]
  },
  {
   "cell_type": "markdown",
   "metadata": {
    "slideshow": {
     "slide_type": "slide"
    }
   },
   "source": [
    "## Another example pipeline\n"
   ]
  },
  {
   "cell_type": "code",
   "execution_count": 10,
   "metadata": {},
   "outputs": [
    {
     "data": {
      "text/plain": [
       "<traitsui.ui.UI at 0x7f296091de50>"
      ]
     },
     "execution_count": 10,
     "metadata": {},
     "output_type": "execute_result"
    }
   ],
   "source": [
    "a = np.random.random((4, 4))\n",
    "mlab.clf()\n",
    "mlab.surf(a)\n",
    "mlab.show_pipeline()"
   ]
  },
  {
   "cell_type": "markdown",
   "metadata": {
    "slideshow": {
     "slide_type": "slide"
    }
   },
   "source": [
    "## Using `mlab.pipeline`\n"
   ]
  },
  {
   "cell_type": "code",
   "execution_count": 15,
   "metadata": {},
   "outputs": [],
   "source": [
    "mlab.clf()\n",
    "src = mlab.pipeline.array2d_source(a)"
   ]
  },
  {
   "cell_type": "code",
   "execution_count": 16,
   "metadata": {},
   "outputs": [],
   "source": [
    "warp = mlab.pipeline.warp_scalar(src)\n",
    "normals = mlab.pipeline.poly_data_normals(warp)"
   ]
  },
  {
   "cell_type": "code",
   "execution_count": 17,
   "metadata": {},
   "outputs": [],
   "source": [
    "surf = mlab.pipeline.surface(normals)"
   ]
  },
  {
   "cell_type": "code",
   "execution_count": 18,
   "metadata": {},
   "outputs": [
    {
     "data": {
      "text/plain": [
       "<traitsui.ui.UI at 0x7f293b52d220>"
      ]
     },
     "execution_count": 18,
     "metadata": {},
     "output_type": "execute_result"
    }
   ],
   "source": [
    "mlab.show_pipeline()"
   ]
  },
  {
   "cell_type": "markdown",
   "metadata": {},
   "source": [
    "* Does exactly what `mlab.surf(a)` does!\n",
    "* Lower-level but full control\n",
    "* More options\n"
   ]
  },
  {
   "cell_type": "markdown",
   "metadata": {
    "slideshow": {
     "slide_type": "slide"
    }
   },
   "source": [
    "## Exercise\n"
   ]
  },
  {
   "cell_type": "code",
   "execution_count": 19,
   "metadata": {},
   "outputs": [
    {
     "name": "stderr",
     "output_type": "stream",
     "text": [
      "libpng warning: iCCP: known incorrect sRGB profile\n"
     ]
    }
   ],
   "source": [
    "mlab.clf()\n",
    "x, y, z = np.ogrid[-5:5:64j, -5:5:64j, -5:5:64j]\n",
    "o = mlab.contour3d(x*x*0.5 + y*y + z*z*2)"
   ]
  },
  {
   "cell_type": "markdown",
   "metadata": {},
   "source": [
    "* Modify contour parameters\n",
    "\n",
    "* Hide the existing contours\n",
    "\n",
    "* Add a scalar cut plane\n",
    "\n",
    "* Do these with the UI\n",
    "\n",
    "* Do them with scripting (also use `mlab.pipeline`)\n",
    "\n",
    "* Remove the scalar cut plane\n"
   ]
  },
  {
   "cell_type": "markdown",
   "metadata": {
    "slideshow": {
     "slide_type": "slide"
    }
   },
   "source": [
    "## Some tips: try these\n"
   ]
  },
  {
   "cell_type": "code",
   "execution_count": 26,
   "metadata": {},
   "outputs": [],
   "source": [
    "x, y, z = np.ogrid[-5:5:64j, -5:5:64j, -5:5:64j]\n",
    "o = mlab.contour3d(x*x*0.5 + y*y + z*z*2)"
   ]
  },
  {
   "cell_type": "code",
   "execution_count": 27,
   "metadata": {},
   "outputs": [
    {
     "name": "stdout",
     "output_type": "stream",
     "text": [
      "<mayavi.core.module_manager.ModuleManager object at 0x7f2939bd7270>\n"
     ]
    }
   ],
   "source": [
    "o.visible = False # or True\n",
    "p = o.parent #parent in the pipeline\n",
    "print(p)"
   ]
  },
  {
   "cell_type": "code",
   "execution_count": 28,
   "metadata": {},
   "outputs": [
    {
     "name": "stdout",
     "output_type": "stream",
     "text": [
      "<mayavi.sources.array_source.ArraySource object at 0x7f293897c270>\n"
     ]
    },
    {
     "data": {
      "text/plain": [
       "[<mayavi.modules.iso_surface.IsoSurface at 0x7f2939f6c400>]"
      ]
     },
     "execution_count": 28,
     "metadata": {},
     "output_type": "execute_result"
    }
   ],
   "source": [
    "print(p.parent)\n",
    "p.children"
   ]
  },
  {
   "cell_type": "code",
   "execution_count": 29,
   "metadata": {},
   "outputs": [
    {
     "data": {
      "text/plain": [
       "<mayavi.modules.scalar_cut_plane.ScalarCutPlane at 0x7f29394434f0>"
      ]
     },
     "execution_count": 29,
     "metadata": {},
     "output_type": "execute_result"
    }
   ],
   "source": [
    "o.remove()\n",
    "mlab.pipeline.scalar_cut_plane(p)"
   ]
  },
  {
   "cell_type": "markdown",
   "metadata": {
    "slideshow": {
     "slide_type": "slide"
    }
   },
   "source": [
    "## A useful trick\n",
    "\n",
    "- If you want to quickly configure parameters for a particular object\n"
   ]
  },
  {
   "cell_type": "code",
   "execution_count": 30,
   "metadata": {},
   "outputs": [
    {
     "data": {
      "text/plain": [
       "<traitsui.ui.UI at 0x7f293999b680>"
      ]
     },
     "execution_count": 30,
     "metadata": {},
     "output_type": "execute_result"
    }
   ],
   "source": [
    "p.edit_traits()\n",
    "# Will pop up a UI for `p` alone!"
   ]
  },
  {
   "cell_type": "markdown",
   "metadata": {
    "slideshow": {
     "slide_type": "slide"
    }
   },
   "source": [
    "## Recap\n",
    "\n",
    "* `obj.visible`\n",
    "* `obj.parent`\n",
    "* `obj.children` : modules have none\n",
    "\n",
    "* `obj.remove()`\n",
    "* `mlab.pipeline`  lets us do more\n",
    "* `obj.edit_traits()`: UI for `obj`\n",
    "\n",
    "* Right-click-menu equivalents are in `mlab.pipeline`\n"
   ]
  },
  {
   "cell_type": "markdown",
   "metadata": {
    "slideshow": {
     "slide_type": "slide"
    }
   },
   "source": [
    "### So how do you make a fancier script?\n",
    "\n",
    "Use script recording\n",
    "\n",
    "**Demo**\n"
   ]
  },
  {
   "cell_type": "markdown",
   "metadata": {
    "slideshow": {
     "slide_type": "slide"
    }
   },
   "source": [
    "## Exercise\n"
   ]
  },
  {
   "cell_type": "code",
   "execution_count": 32,
   "metadata": {},
   "outputs": [
    {
     "data": {
      "text/plain": [
       "<mayavi.modules.streamline.Streamline at 0x7f293a322ef0>"
      ]
     },
     "execution_count": 32,
     "metadata": {},
     "output_type": "execute_result"
    },
    {
     "name": "stderr",
     "output_type": "stream",
     "text": [
      "libpng warning: iCCP: known incorrect sRGB profile\n"
     ]
    }
   ],
   "source": [
    "mlab.test_flow()"
   ]
  },
  {
   "cell_type": "markdown",
   "metadata": {},
   "source": [
    "Add a Vector Cut Plane\n"
   ]
  },
  {
   "cell_type": "code",
   "execution_count": 33,
   "metadata": {
    "slideshow": {
     "slide_type": "fragment"
    }
   },
   "outputs": [
    {
     "data": {
      "text/plain": [
       "<mayavi.modules.vectors.Vectors at 0x7f2938149310>"
      ]
     },
     "execution_count": 33,
     "metadata": {},
     "output_type": "execute_result"
    }
   ],
   "source": [
    "mlab.test_quiver3d()"
   ]
  },
  {
   "cell_type": "markdown",
   "metadata": {},
   "source": [
    "Hide vectors, add a Vector Cut Plane\n"
   ]
  },
  {
   "cell_type": "markdown",
   "metadata": {
    "slideshow": {
     "slide_type": "slide"
    }
   },
   "source": [
    "## Data sources and Datasets\n",
    "\n",
    "* Intimately connected to VTK \"datasets\"\n",
    "\n",
    "* Datasets\n",
    "\n",
    "   * Structure: Geometry and topology\n",
    "   * Attribute data associated with the structure\n",
    "\n",
    "\n",
    "* Example: Temperature distribution in the room\n",
    "* Example: Stress distribution on chair\n"
   ]
  },
  {
   "cell_type": "markdown",
   "metadata": {
    "slideshow": {
     "slide_type": "slide"
    }
   },
   "source": [
    "## Datasets in mlab\n",
    "\n",
    "* `mlab`  provides a few data sources\n",
    "\n",
    "* Not the most general currently\n",
    "\n",
    "* Three broad categories:\n",
    "\n",
    "   1. Unconnected sources\n",
    "   1. Implicitly connected sources\n",
    "   1. Explicitly connected sources\n"
   ]
  },
  {
   "attachments": {},
   "cell_type": "markdown",
   "metadata": {
    "slideshow": {
     "slide_type": "slide"
    }
   },
   "source": [
    "## Unconnected sources\n",
    "\n",
    "| `scalar_scatter` | `vector_scatter` |\n",
    "| ---------------- | ---------------- |\n",
    "|`PolyData`      | `PolyData`    |\n",
    "|`mlab.points3d`   | `mlab.quiver3d` |\n"
   ]
  },
  {
   "attachments": {},
   "cell_type": "markdown",
   "metadata": {
    "slideshow": {
     "slide_type": "slide"
    }
   },
   "source": [
    "## Implicitly-connected sources\n",
    "\n",
    "| `scalar_field`    |   `vector_field`  |\n",
    "| ----------------- | ---------------   |\n",
    "| `ImageData`       | `ImageData`     |\n",
    "| `mlab.contour3d`  | `mlab.flow`     |\n"
   ]
  },
  {
   "attachments": {},
   "cell_type": "markdown",
   "metadata": {
    "slideshow": {
     "slide_type": "slide"
    }
   },
   "source": [
    "## Implicitly-connected sources\n",
    "\n",
    "`array2d_source`\n",
    "\n",
    "`ImageData`\n",
    "\n",
    "`mlab.imshow`\n"
   ]
  },
  {
   "attachments": {},
   "cell_type": "markdown",
   "metadata": {
    "slideshow": {
     "slide_type": "slide"
    }
   },
   "source": [
    "## Explicitly-connected sources\n",
    "| `line_source`  | `triangular_mesh_source` |\n",
    "| -------------- | ---------------------- |\n",
    "|`PolyData`      | `PolyData`    |\n",
    "|`mlab.plot3d`   | `mlab.triangular_mesh` |\n"
   ]
  },
  {
   "cell_type": "markdown",
   "metadata": {
    "slideshow": {
     "slide_type": "slide"
    }
   },
   "source": [
    "## Summary\n",
    "\n",
    "* Unconnected: points in space\n",
    "\n",
    "* Connected: represent surface or volume\n",
    "\n",
    "* Attributes associated with structure are rendered\n"
   ]
  },
  {
   "cell_type": "markdown",
   "metadata": {
    "slideshow": {
     "slide_type": "slide"
    }
   },
   "source": [
    "## Exercise (Homework?)\n",
    "\n",
    "* Run all the `mlab.test_*`  functions\n",
    "\n",
    "* Read the source for each\n",
    "\n",
    "* Inspect the pipeline for each example\n"
   ]
  },
  {
   "cell_type": "markdown",
   "metadata": {
    "slideshow": {
     "slide_type": "slide"
    }
   },
   "source": [
    "## Recap\n",
    "\n",
    "* `mlab`  gets you started\n",
    "* Pipeline and data flow\n",
    "* Datasets are important!\n"
   ]
  },
  {
   "cell_type": "markdown",
   "metadata": {
    "slideshow": {
     "slide_type": "slide"
    }
   },
   "source": [
    "## `mlab`  and Mayavi?\n",
    "\n",
    "* `mlab` : thin layer over the Mayavi OO API\n",
    "\n",
    "* `mlab`  commands return mayavi objects\n"
   ]
  },
  {
   "cell_type": "markdown",
   "metadata": {
    "slideshow": {
     "slide_type": "slide"
    }
   },
   "source": [
    "## Exercise\n",
    "\n",
    "* Visualize the following vector field\n"
   ]
  },
  {
   "cell_type": "code",
   "execution_count": null,
   "metadata": {},
   "outputs": [],
   "source": [
    "from numpy import mgrid, sin, cos, pi\n",
    "s = slice(0, 1, 20j)\n",
    "x, y, z = mgrid[s,s,s]\n",
    "\n",
    "u = sin(pi*x) * cos(pi*z)\n",
    "v = -2*sin(pi*y) * cos(2*pi*z)\n",
    "w = cos(pi*x)*sin(pi*z) + cos(pi*y)*sin(2*pi*z)"
   ]
  },
  {
   "cell_type": "markdown",
   "metadata": {
    "slideshow": {
     "slide_type": "slide"
    }
   },
   "source": [
    "## Hints / Solution\n"
   ]
  },
  {
   "cell_type": "code",
   "execution_count": null,
   "metadata": {},
   "outputs": [],
   "source": [
    "src = mlab.pipeline.vector_field(\n",
    "    x, y, z, u, v, w\n",
    ")\n",
    "# ------------------------------------\n",
    "mlab.pipeline.vectors(\n",
    "    src, mask_points=20, scale_factor=0.5\n",
    ")\n",
    "# ------------------------------------\n",
    "mlab.pipeline.vector_cut_plane(\n",
    "    src, mask_points=2, scale_factor=0.5\n",
    ")"
   ]
  },
  {
   "cell_type": "markdown",
   "metadata": {
    "slideshow": {
     "slide_type": "slide"
    }
   },
   "source": [
    "## Hints / Solution\n"
   ]
  },
  {
   "cell_type": "code",
   "execution_count": null,
   "metadata": {},
   "outputs": [],
   "source": [
    "mag = mlab.pipeline.extract_vector_norm(src)\n",
    "mlab.pipeline.iso_surface(\n",
    "    mag, contours=[1.9, 0.5]\n",
    ")\n",
    "# ------------------------------------\n",
    "flow = mlab.flow(\n",
    "    x, y, z, u, v, w, seed_scale=1,\n",
    "    seed_resolution=5,\n",
    "    integration_direction='both'\n",
    ")"
   ]
  },
  {
   "cell_type": "markdown",
   "metadata": {
    "slideshow": {
     "slide_type": "slide"
    }
   },
   "source": [
    "## Exercise: play with your own data\n",
    "\n",
    "Explore your own data with `mlab`\n"
   ]
  },
  {
   "cell_type": "markdown",
   "metadata": {
    "slideshow": {
     "slide_type": "slide"
    }
   },
   "source": [
    "## Exercise (if you don't have your own data)\n",
    "\n",
    "1. Start with flow for the Lorenz system\n",
    "1. Now extract the vector norm (use a filter)\n",
    "1. Plot iso-contours of this\n",
    "1. Figure out how to do this from the UI and `mlab.pipeline`\n"
   ]
  }
 ],
 "metadata": {
  "celltoolbar": "Slideshow",
  "kernelspec": {
   "display_name": "Python 3",
   "language": "python",
   "name": "python3"
  },
  "language_info": {
   "codemirror_mode": {
    "name": "ipython",
    "version": 3
   },
   "file_extension": ".py",
   "mimetype": "text/x-python",
   "name": "python",
   "nbconvert_exporter": "python",
   "pygments_lexer": "ipython3",
   "version": "3.8.10"
  },
  "livereveal": {
   "controls": true,
   "help": true,
   "scroll": true,
   "slideNumber": true,
   "transition": "none"
  }
 },
 "nbformat": 4,
 "nbformat_minor": 2
}
