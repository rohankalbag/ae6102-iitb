{
 "cells": [
  {
   "attachments": {},
   "cell_type": "markdown",
   "metadata": {},
   "source": [
    "# mlab is like pyplot"
   ]
  },
  {
   "cell_type": "code",
   "execution_count": 2,
   "metadata": {},
   "outputs": [],
   "source": [
    "#like %matplotlib inline, allows plots to be popped up\n",
    "%gui qt"
   ]
  },
  {
   "cell_type": "code",
   "execution_count": 3,
   "metadata": {},
   "outputs": [
    {
     "data": {
      "text/plain": [
       "<mayavi.modules.iso_surface.IsoSurface at 0x7f455c77e770>"
      ]
     },
     "execution_count": 3,
     "metadata": {},
     "output_type": "execute_result"
    }
   ],
   "source": [
    "from mayavi import mlab\n",
    "mlab.test_contour3d()"
   ]
  },
  {
   "attachments": {},
   "cell_type": "markdown",
   "metadata": {},
   "source": [
    "[Docs](https://mayavi.readthedocs.io)\n",
    "- rightclick to zoom\n",
    "- leftclick to angle\n",
    "- shift + left click pan\n",
    "- up down left right\n",
    "- f to center the object \n",
    "- p for point info, q to close that\n",
    "- orthographic, parallel plane, isometric all possible "
   ]
  },
  {
   "attachments": {},
   "cell_type": "markdown",
   "metadata": {},
   "source": [
    "## Plotting with Mayavi"
   ]
  },
  {
   "cell_type": "code",
   "execution_count": 14,
   "metadata": {},
   "outputs": [
    {
     "data": {
      "text/plain": [
       "<mayavi.modules.glyph.Glyph at 0x7f2f5ce78270>"
      ]
     },
     "execution_count": 14,
     "metadata": {},
     "output_type": "execute_result"
    }
   ],
   "source": [
    "from numpy import *\n",
    "\n",
    "# generic parameterised curve, each point is a ball here \n",
    "\n",
    "t = linspace(0, 2*pi, 50)\n",
    "u = cos(t)*pi\n",
    "x, y, z = sin(u), cos(u), sin(t)\n",
    "\n",
    "mlab.points3d(x, y, z)"
   ]
  },
  {
   "cell_type": "code",
   "execution_count": 20,
   "metadata": {},
   "outputs": [],
   "source": [
    "mlab.clf() #clear screen"
   ]
  },
  {
   "cell_type": "code",
   "execution_count": 21,
   "metadata": {},
   "outputs": [
    {
     "data": {
      "text/plain": [
       "<mayavi.core.lut_manager.LUTManager at 0x7f2f5d515900>"
      ]
     },
     "execution_count": 21,
     "metadata": {},
     "output_type": "execute_result"
    }
   ],
   "source": [
    "mlab.points3d(x, y, z, t) #has points with a scalar point corresponding\n",
    "mlab.scalarbar() #does scaling based on scalar value\n",
    "\n",
    "# mlab.points3d(x, y, z, t, scale_mode='none')\n"
   ]
  },
  {
   "cell_type": "code",
   "execution_count": 22,
   "metadata": {},
   "outputs": [],
   "source": [
    "mlab.clf()"
   ]
  },
  {
   "cell_type": "code",
   "execution_count": 23,
   "metadata": {},
   "outputs": [
    {
     "data": {
      "text/plain": [
       "<mayavi.modules.surface.Surface at 0x7f2f5d320c70>"
      ]
     },
     "execution_count": 23,
     "metadata": {},
     "output_type": "execute_result"
    },
    {
     "name": "stderr",
     "output_type": "stream",
     "text": [
      "libpng warning: iCCP: known incorrect sRGB profile\n"
     ]
    }
   ],
   "source": [
    "#points are 0 dimensional dataset as they do not occupy volume\n",
    "#like scatter plot and plot in matplotlib\n",
    "mlab.plot3d(x, y, z, t)\n",
    "#this joins a line between all the points"
   ]
  },
  {
   "cell_type": "code",
   "execution_count": 38,
   "metadata": {},
   "outputs": [
    {
     "data": {
      "text/plain": [
       "<mayavi.modules.glyph.Glyph at 0x7f2f5d250360>"
      ]
     },
     "execution_count": 38,
     "metadata": {},
     "output_type": "execute_result"
    }
   ],
   "source": [
    "# mass connected to helix problem in class \n",
    "t = linspace(0, 8*pi, 100)\n",
    "z = linspace(0, 10, 100)\n",
    "x = cos(t)\n",
    "y = sin(t)\n",
    "mlab.plot3d(x, y, z)\n",
    "mass = (cos(8*pi), sin(8*pi), 10)\n",
    "mlab.points3d(mass[0], mass[1], mass[2], color=(1, 0, 1)) "
   ]
  },
  {
   "cell_type": "code",
   "execution_count": 41,
   "metadata": {},
   "outputs": [
    {
     "data": {
      "text/plain": [
       "<mayavi.modules.surface.Surface at 0x7f2f5d2e7310>"
      ]
     },
     "execution_count": 41,
     "metadata": {},
     "output_type": "execute_result"
    }
   ],
   "source": [
    "# 2d data\n",
    "\n",
    "x, y = mgrid[-3:3:100j, -3:3:100j]\n",
    "z = sin(x*x + y*y)\n",
    "mlab.clf()\n",
    "mlab.surf(x, y, z)"
   ]
  },
  {
   "cell_type": "code",
   "execution_count": 42,
   "metadata": {},
   "outputs": [
    {
     "data": {
      "text/plain": [
       "<mayavi.modules.surface.Surface at 0x7f2f575fc180>"
      ]
     },
     "execution_count": 42,
     "metadata": {},
     "output_type": "execute_result"
    }
   ],
   "source": [
    "x, y = mgrid[-3:3:100j, -3:3:100j]\n",
    "z = sin(x*x + y*y)\n",
    "mlab.clf()\n",
    "mlab.contour_surf(x, y, z)"
   ]
  },
  {
   "cell_type": "code",
   "execution_count": 43,
   "metadata": {},
   "outputs": [
    {
     "data": {
      "text/plain": [
       "<mayavi.modules.surface.Surface at 0x7f2f575d3db0>"
      ]
     },
     "execution_count": 43,
     "metadata": {},
     "output_type": "execute_result"
    }
   ],
   "source": [
    "x, y = mgrid[-3:3:100j, -3:3:100j]\n",
    "z = sin(x*x + y*y)\n",
    "mlab.clf()\n",
    "mlab.mesh(x, y, z) #doesnt require them to be in a rectangular grid"
   ]
  },
  {
   "cell_type": "code",
   "execution_count": 45,
   "metadata": {},
   "outputs": [
    {
     "data": {
      "text/plain": [
       "<mayavi.modules.surface.Surface at 0x7f2f27e5e540>"
      ]
     },
     "execution_count": 45,
     "metadata": {},
     "output_type": "execute_result"
    }
   ],
   "source": [
    "x, y = mgrid[-3:3:100j, -3:3:100j]\n",
    "z =  (x*x +y*y)*0.1\n",
    "mlab.clf()\n",
    "mlab.mesh(sin(x), cos(y), z)"
   ]
  },
  {
   "cell_type": "code",
   "execution_count": 60,
   "metadata": {},
   "outputs": [
    {
     "data": {
      "text/plain": [
       "<mayavi.modules.surface.Surface at 0x7f2f26a219f0>"
      ]
     },
     "execution_count": 60,
     "metadata": {},
     "output_type": "execute_result"
    }
   ],
   "source": [
    "x, y = mgrid[0:2*pi:100j, 0:2*pi:100j]\n",
    "z = 1 - (x*x + y*y)\n",
    "mlab.surf(sin(x), cos(y), z)"
   ]
  },
  {
   "cell_type": "code",
   "execution_count": 58,
   "metadata": {},
   "outputs": [
    {
     "data": {
      "text/plain": [
       "<mayavi.modules.surface.Surface at 0x7f2f26a81b30>"
      ]
     },
     "execution_count": 58,
     "metadata": {},
     "output_type": "execute_result"
    }
   ],
   "source": [
    "h = array([[0, 0, 0], [0,1,0], [1, 0, 0], [1, 1, 0], [0.5, 0.5, 1]])\n",
    "x, y, z = h.T\n",
    "t = [[0, 1, 4], [1, 2, 4], [2, 3, 4], [3, 0, 4]]\n",
    "mlab.triangular_mesh(\n",
    "    x, y, z, t\n",
    ")\n"
   ]
  },
  {
   "cell_type": "code",
   "execution_count": 5,
   "metadata": {},
   "outputs": [],
   "source": [
    "from numpy import *\n",
    "x, y, z = mgrid[-50:50:20j, -50:50:20j, -10:60:20j]"
   ]
  },
  {
   "cell_type": "code",
   "execution_count": 6,
   "metadata": {},
   "outputs": [],
   "source": [
    "def lorenz(x, y, z, s=10.,r=28., b=8./3):\n",
    "    u = s*(y-x)\n",
    "    v = r*x -y - x*z\n",
    "    w = x*y - b*z\n",
    "    return u, v, w"
   ]
  },
  {
   "cell_type": "code",
   "execution_count": 30,
   "metadata": {},
   "outputs": [],
   "source": [
    "x, y, z = mgrid[-50:50:20j, -50:50:20j, -10:60:20j]\n",
    "u, v, w = lorenz(x, y, z)\n",
    "mlab.clf()\n",
    "o = mlab.quiver3d(x, y, z, u, v, w, line_width=1, mask_points=10, scale_factor = 0.01, mode='arrow')"
   ]
  },
  {
   "cell_type": "code",
   "execution_count": 34,
   "metadata": {},
   "outputs": [],
   "source": [
    "x, y, z = mgrid[-2:3:100j, -2:3:100j, -2:3:100j]\n",
    "u, v, w = lorenz(x, y, z)\n",
    "mlab.clf()\n",
    "obj = mlab.flow(x, y, z, u, v, w)"
   ]
  }
 ],
 "metadata": {
  "kernelspec": {
   "display_name": "ae6102",
   "language": "python",
   "name": "python3"
  },
  "language_info": {
   "codemirror_mode": {
    "name": "ipython",
    "version": 3
   },
   "file_extension": ".py",
   "mimetype": "text/x-python",
   "name": "python",
   "nbconvert_exporter": "python",
   "pygments_lexer": "ipython3",
   "version": "3.8.10"
  },
  "orig_nbformat": 4
 },
 "nbformat": 4,
 "nbformat_minor": 2
}
